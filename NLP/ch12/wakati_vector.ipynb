{
 "cells": [
  {
   "cell_type": "code",
   "execution_count": 1,
   "metadata": {},
   "outputs": [],
   "source": [
    "import numpy as np"
   ]
  },
  {
   "cell_type": "code",
   "execution_count": 2,
   "metadata": {},
   "outputs": [],
   "source": [
    "def text_to_words(text, stop_word_pass='../stopwords/Japanese.txt'):\n",
    "    # stopword listをつくる\n",
    "    stopword_list = []\n",
    "    with open(stop_word_pass, 'r') as f:\n",
    "        stopword_list = f.readlines()\n",
    "        \n",
    "    stopword_list = [x.strip() for x in stopword_list if x.strip()] \n",
    "    #形態素解析を始める\n",
    "    m = MeCab.Tagger('-d /usr/local/lib/mecab/dic/mecab-ipadic-neologd')\n",
    "    m.parse('')\n",
    "    #text = normalize_text(text)\n",
    "    text = mojimoji.zen_to_han(text, kana=False)\n",
    "    m_text = m.parse(text)\n",
    "    basic_words = []\n",
    "    #mecabの出力結果を単語ごとにリスト化\n",
    "    m_text = m_text.split('\\n')\n",
    "    for row in m_text:\n",
    "        #Tab区切りで形態素、その品詞等の内容と分かれているので単語部のみ取得\n",
    "        word = row.split(\"\\t\")[0]\n",
    "        #最終行はEOS\n",
    "        if word == 'EOS':\n",
    "            break\n",
    "        else:\n",
    "            pos = row.split('\\t')[1]\n",
    "            slice_ = pos.split(',')\n",
    "            #品詞を取得する\n",
    "            parts = slice_[0]\n",
    "            if parts == '記号':\n",
    "                continue\n",
    "\n",
    "            #活用語の場合は活用指定ない原型を取得する。\n",
    "            elif slice_[0] in ('形容詞', '動詞') and slice_[-3] not in stopword_list:\n",
    "                    basic_words.append(slice_[-3])\n",
    "\n",
    "            #活用しない語についてはそのままの語を取得する\n",
    "            elif slice_[0] =='名詞' and word not in stopword_list:\n",
    "                basic_words.append(word)\n",
    "\n",
    "    basic_words = ' '.join(basic_words)\n",
    "    return basic_words"
   ]
  },
  {
   "cell_type": "markdown",
   "metadata": {},
   "source": [
    "# 共起行列"
   ]
  },
  {
   "cell_type": "code",
   "execution_count": 3,
   "metadata": {},
   "outputs": [],
   "source": [
    "def co_matrix(corpus, sep=' ', window_size=1):\n",
    "    word_to_id = {}\n",
    "    id_to_word = {}\n",
    "    cnt = 0\n",
    "    # Wordにidを振る\n",
    "    for co in corpus:\n",
    "        for c in co.split(sep):\n",
    "            if c not in word_to_id:\n",
    "                word_to_id[c] = cnt\n",
    "                id_to_word[cnt] = c\n",
    "                cnt += 1\n",
    "    \n",
    "    vocab_size = len(word_to_id)\n",
    "    #出てきた単語数の正方行列を作成する。\n",
    "    co_matrix = np.zeros((vocab_size, vocab_size))\n",
    "    for co in corpus:\n",
    "        corpus_words = co.split(sep)\n",
    "        #文書のword数をセット\n",
    "        corpus_size = len(corpus_words)\n",
    "        for idx, c in enumerate(corpus_words):\n",
    "            # wordのidを取得する\n",
    "            center_index = word_to_id[c]\n",
    "            # window_sizeの数だけループ\n",
    "            for diff in range(1, window_size+1):\n",
    "                # 対象の単語より前側を共起させる\n",
    "                if idx - diff >=0:\n",
    "                    left_word = corpus_words[idx - diff]\n",
    "                    left_index = word_to_id[left_word]\n",
    "                    co_matrix[center_index, left_index] +=1\n",
    "                    \n",
    "                # 対象の単語より後ろ側を共起させる\n",
    "                if idx + diff < corpus_size:\n",
    "                    right_word = corpus_words[idx + diff]\n",
    "                    right_index = word_to_id[right_word]\n",
    "                    co_matrix[center_index, right_index] += 1\n",
    "                    \n",
    "    return word_to_id, id_to_word, co_matrix\n",
    "            "
   ]
  },
  {
   "cell_type": "code",
   "execution_count": 4,
   "metadata": {},
   "outputs": [
    {
     "data": {
      "text/plain": [
       "({'私': 0, '東京駅': 1, '行く': 2, '山手線': 3, '乗る': 4},\n",
       " {0: '私', 1: '東京駅', 2: '行く', 3: '山手線', 4: '乗る'},\n",
       " array([[0., 1., 0., 0., 0.],\n",
       "        [1., 0., 2., 1., 0.],\n",
       "        [0., 2., 0., 0., 0.],\n",
       "        [0., 1., 0., 0., 1.],\n",
       "        [0., 0., 0., 1., 0.]]))"
      ]
     },
     "execution_count": 4,
     "metadata": {},
     "output_type": "execute_result"
    }
   ],
   "source": [
    "co_matrix(['私 東京駅 行く 東京駅 山手線 乗る'])"
   ]
  },
  {
   "cell_type": "markdown",
   "metadata": {},
   "source": [
    "# 相互情報量\n",
    "\n",
    "$$\n",
    "\\textrm{PMI} \\left( x, y \\right) = \\log_{2} \\frac{P \\left(x,y \\right)}{P \\left(x \\right) P \\left(y \\right)} \\\\\n",
    "\\textrm{PPMI} \\left( x, y \\right) = \\max \\left[0, \\textrm{PMI}\\left( x, y \\right) \\right]\n",
    "$$"
   ]
  },
  {
   "cell_type": "code",
   "execution_count": 5,
   "metadata": {},
   "outputs": [],
   "source": [
    "def ppmi(C, delta=1e-8):\n",
    "    M = np.zeros_like(C, dtype=np.float32)\n",
    "    N = np.sum(C)\n",
    "    # 単語ごとの個数の合計を求める。\n",
    "    S = np.sum(C, axis=0)\n",
    "    for i in range(C.shape[0]):\n",
    "        for j in range(C.shape[1]):\n",
    "            pmi = np.log2(C[i, j] * N / S[i]*S[j] + delta)\n",
    "            M[i, j] = max(0, pmi)\n",
    "            \n",
    "    return M"
   ]
  },
  {
   "cell_type": "code",
   "execution_count": 6,
   "metadata": {},
   "outputs": [
    {
     "name": "stdout",
     "output_type": "stream",
     "text": [
      "[[0. 1. 0. 0. 0. 0. 0. 0. 0. 0. 0.]\n",
      " [1. 0. 1. 1. 0. 1. 0. 0. 1. 0. 0.]\n",
      " [0. 1. 0. 0. 0. 0. 0. 0. 0. 0. 0.]\n",
      " [0. 1. 0. 0. 1. 0. 0. 0. 0. 0. 0.]\n",
      " [0. 0. 0. 1. 0. 0. 0. 0. 0. 0. 0.]\n",
      " [0. 1. 0. 0. 0. 0. 1. 0. 0. 0. 0.]\n",
      " [0. 0. 0. 0. 0. 1. 0. 1. 0. 0. 0.]\n",
      " [0. 0. 0. 0. 0. 0. 1. 0. 0. 0. 0.]\n",
      " [0. 1. 0. 0. 0. 0. 0. 0. 2. 1. 0.]\n",
      " [0. 0. 0. 0. 0. 0. 0. 0. 1. 0. 1.]\n",
      " [0. 0. 0. 0. 0. 0. 0. 0. 0. 1. 0.]]\n"
     ]
    },
    {
     "data": {
      "text/plain": [
       "array([[0.       , 6.7813597, 0.       , 0.       , 0.       , 0.       ,\n",
       "        0.       , 0.       , 0.       , 0.       , 0.       ],\n",
       "       [2.1375036, 0.       , 2.1375036, 3.1375036, 0.       , 3.1375036,\n",
       "        0.       , 0.       , 4.1375036, 0.       , 0.       ],\n",
       "       [0.       , 6.7813597, 0.       , 0.       , 0.       , 0.       ,\n",
       "        0.       , 0.       , 0.       , 0.       , 0.       ],\n",
       "       [0.       , 5.7813597, 0.       , 0.       , 3.4594316, 0.       ,\n",
       "        0.       , 0.       , 0.       , 0.       , 0.       ],\n",
       "       [0.       , 0.       , 0.       , 5.4594316, 0.       , 0.       ,\n",
       "        0.       , 0.       , 0.       , 0.       , 0.       ],\n",
       "       [0.       , 5.7813597, 0.       , 0.       , 0.       , 0.       ,\n",
       "        4.4594316, 0.       , 0.       , 0.       , 0.       ],\n",
       "       [0.       , 0.       , 0.       , 0.       , 0.       , 4.4594316,\n",
       "        0.       , 3.4594316, 0.       , 0.       , 0.       ],\n",
       "       [0.       , 0.       , 0.       , 0.       , 0.       , 0.       ,\n",
       "        5.4594316, 0.       , 0.       , 0.       , 0.       ],\n",
       "       [0.       , 4.7813597, 0.       , 0.       , 0.       , 0.       ,\n",
       "        0.       , 0.       , 5.4594316, 3.4594316, 0.       ],\n",
       "       [0.       , 0.       , 0.       , 0.       , 0.       , 0.       ,\n",
       "        0.       , 0.       , 5.4594316, 0.       , 3.4594316],\n",
       "       [0.       , 0.       , 0.       , 0.       , 0.       , 0.       ,\n",
       "        0.       , 0.       , 0.       , 5.4594316, 0.       ]],\n",
       "      dtype=float32)"
      ]
     },
     "execution_count": 6,
     "metadata": {},
     "output_type": "execute_result"
    }
   ],
   "source": [
    "_, _,m = co_matrix(['私 東京駅 行く', '東京駅 山手線 乗る','東京駅 品川駅 東海道新幹線 一駅','東京駅 大宮 大宮 東北新幹線 乗り換える'], window_size=1)\n",
    "print(m)\n",
    "ppmi(m)"
   ]
  },
  {
   "cell_type": "markdown",
   "metadata": {},
   "source": [
    "# 主成分分析\n",
    "主成分分析はScikit-learnに実装されている。"
   ]
  },
  {
   "cell_type": "code",
   "execution_count": 7,
   "metadata": {},
   "outputs": [],
   "source": [
    "from sklearn.decomposition import PCA"
   ]
  },
  {
   "cell_type": "markdown",
   "metadata": {},
   "source": [
    "# 文書の準備\n",
    "今回はppmiの行列を次元削減することを考える。"
   ]
  },
  {
   "cell_type": "code",
   "execution_count": 8,
   "metadata": {},
   "outputs": [
    {
     "name": "stdout",
     "output_type": "stream",
     "text": [
      "[[0.       2.321928 3.321928 0.       3.321928 0.       0.       4.321928\n",
      "  0.       0.      ]\n",
      " [6.321928 0.       0.       0.       0.       0.       0.       0.\n",
      "  0.       0.      ]\n",
      " [5.321928 0.       0.       3.321928 0.       0.       0.       0.\n",
      "  0.       0.      ]\n",
      " [0.       0.       5.321928 0.       0.       0.       0.       0.\n",
      "  0.       0.      ]\n",
      " [5.321928 0.       0.       0.       0.       4.321928 0.       0.\n",
      "  0.       0.      ]\n",
      " [0.       0.       0.       0.       4.321928 0.       3.321928 0.\n",
      "  0.       0.      ]\n",
      " [0.       0.       0.       0.       0.       5.321928 0.       0.\n",
      "  0.       0.      ]\n",
      " [4.321928 0.       0.       0.       0.       0.       0.       5.321928\n",
      "  3.321928 0.      ]\n",
      " [0.       0.       0.       0.       0.       0.       0.       5.321928\n",
      "  0.       3.321928]\n",
      " [0.       0.       0.       0.       0.       0.       0.       0.\n",
      "  5.321928 0.      ]]\n"
     ]
    }
   ],
   "source": [
    "corpus = ['東京駅 行く', \\\n",
    "          '東京駅 山手線 乗る',\\\n",
    "          '東京駅 品川駅 東海道新幹線 一駅',\\\n",
    "          '東京駅 大宮 大宮 東北新幹線 乗り換える']\n",
    "_, id_to_word, m = co_matrix(corpus)\n",
    "pp_m = ppmi(m)\n",
    "print(pp_m)"
   ]
  },
  {
   "cell_type": "markdown",
   "metadata": {},
   "source": [
    "## 次元圧縮の実戦"
   ]
  },
  {
   "cell_type": "code",
   "execution_count": 9,
   "metadata": {},
   "outputs": [
    {
     "data": {
      "text/plain": [
       "array([[ 4.4967055 ,  0.759573  ],\n",
       "       [-4.124335  ,  0.8454847 ],\n",
       "       [-3.801812  ,  0.5828286 ],\n",
       "       [ 2.4012997 , -2.3495476 ],\n",
       "       [-4.326973  , -1.303419  ],\n",
       "       [ 2.215092  , -2.5340316 ],\n",
       "       [-0.41045034, -3.6734424 ],\n",
       "       [-0.5296067 ,  4.8526306 ],\n",
       "       [ 3.0744364 ,  2.9625516 ],\n",
       "       [ 1.005643  , -0.14262933]], dtype=float32)"
      ]
     },
     "execution_count": 9,
     "metadata": {},
     "output_type": "execute_result"
    }
   ],
   "source": [
    "pca = PCA(n_components=2)\n",
    "co_text_pca = pca.fit_transform(pp_m)\n",
    "co_text_pca"
   ]
  },
  {
   "cell_type": "markdown",
   "metadata": {},
   "source": [
    "## 寄与率を求めてみる"
   ]
  },
  {
   "cell_type": "code",
   "execution_count": 10,
   "metadata": {},
   "outputs": [
    {
     "data": {
      "text/plain": [
       "array([0.32518077, 0.21602066], dtype=float32)"
      ]
     },
     "execution_count": 10,
     "metadata": {},
     "output_type": "execute_result"
    }
   ],
   "source": [
    "pca.explained_variance_ratio_"
   ]
  },
  {
   "cell_type": "markdown",
   "metadata": {},
   "source": [
    "# Word2Vec\n",
    "今回の講座ではgensimのWord2Vecを用いる。  \n",
    "\n",
    "モジュールがインストールされていない場合にはこちらを行う。  \n",
    "\\$ conda install -c conda-forge gensim"
   ]
  },
  {
   "cell_type": "code",
   "execution_count": 11,
   "metadata": {},
   "outputs": [
    {
     "name": "stderr",
     "output_type": "stream",
     "text": [
      "/Users/tomone_hata/opt/anaconda3/lib/python3.7/site-packages/gensim/similarities/__init__.py:15: UserWarning: The gensim.similarities.levenshtein submodule is disabled, because the optional Levenshtein package <https://pypi.org/project/python-Levenshtein/> is unavailable. Install Levenhstein (e.g. `pip install python-Levenshtein`) to suppress this warning.\n",
      "  warnings.warn(msg)\n"
     ]
    }
   ],
   "source": [
    "from gensim.models import word2vec\n",
    "import MeCab\n",
    "import mojimoji\n",
    "import pandas as pd"
   ]
  },
  {
   "cell_type": "code",
   "execution_count": 12,
   "metadata": {},
   "outputs": [],
   "source": [
    "df_input = pd.read_csv('../data/kokkai.csv', header=0)\n",
    "corpus = [x.split(' ') for x in \\\n",
    "          df_input['text'].map(text_to_words).values.tolist()]"
   ]
  },
  {
   "cell_type": "code",
   "execution_count": 13,
   "metadata": {},
   "outputs": [
    {
     "data": {
      "text/plain": [
       "['委員長',\n",
       " '礒崎哲史',\n",
       " '君',\n",
       " '経済産業委員会',\n",
       " '開会',\n",
       " 'いたす',\n",
       " '委員',\n",
       " '異動',\n",
       " '報告',\n",
       " 'いたす',\n",
       " '昨日',\n",
       " '三木亨',\n",
       " '君',\n",
       " '斎藤嘉隆',\n",
       " '君',\n",
       " '高橋はるみ',\n",
       " '君',\n",
       " '委員',\n",
       " '辞任',\n",
       " 'する',\n",
       " 'れる',\n",
       " '補欠',\n",
       " '蓮舫',\n",
       " '君',\n",
       " '山田修路',\n",
       " '君',\n",
       " '森屋宏',\n",
       " '君',\n",
       " '選任',\n",
       " 'する',\n",
       " 'れる']"
      ]
     },
     "execution_count": 13,
     "metadata": {},
     "output_type": "execute_result"
    }
   ],
   "source": [
    "corpus[1]"
   ]
  },
  {
   "cell_type": "markdown",
   "metadata": {},
   "source": [
    "## モデル作成\n",
    "モデル作成を行い、このモデルを保管する。 　\n",
    "- vector_size→次元数。\n",
    "- min_count→何回以上出現した単語を対象にするか。\n",
    "- window→前後どこまでを対象とするか。\n",
    "- sg→1はski-gramそれ以外はCBOW"
   ]
  },
  {
   "cell_type": "code",
   "execution_count": 16,
   "metadata": {},
   "outputs": [],
   "source": [
    "model = word2vec.Word2Vec(corpus, vector_size=200, min_count=3, window=5, sg=1)\n",
    "model.save('../data/kokkai_model.model')"
   ]
  },
  {
   "cell_type": "markdown",
   "metadata": {},
   "source": [
    "### ベクトルの出力"
   ]
  },
  {
   "cell_type": "code",
   "execution_count": 17,
   "metadata": {},
   "outputs": [
    {
     "data": {
      "text/plain": [
       "array([ 0.715846  , -0.0381277 ,  0.10917306,  0.04000651, -0.01242358,\n",
       "       -0.1698194 ,  0.07849717,  0.78439933, -0.13846494, -0.24546133,\n",
       "        0.1452493 , -0.20151155,  0.39743558,  0.24011305, -0.2070299 ,\n",
       "       -0.12100703, -0.31195468,  0.24189197, -0.37388372,  0.0634452 ,\n",
       "        0.19018419, -0.18734032,  0.0891735 , -0.3613485 , -0.13861099,\n",
       "        0.25699368,  0.233531  , -0.22662114,  0.14014769,  0.19815141,\n",
       "        0.30167645,  0.25850433, -0.09452258,  0.19625859, -0.07373939,\n",
       "        0.33976173,  0.4273567 , -0.0474168 , -0.32272398, -0.04161372,\n",
       "        0.27649894, -0.00457198,  0.26991227, -0.2826261 ,  0.06118533,\n",
       "        0.13170995,  0.07399867, -0.51248163,  0.09510687,  0.13255215,\n",
       "       -0.58309484, -0.23750968,  0.02228343,  0.34231067,  0.43735185,\n",
       "       -0.00103069, -0.18427412, -0.39359868, -0.05317821, -0.40725893,\n",
       "        0.3794122 ,  0.10500915,  0.40858188, -0.14759625, -0.48479316,\n",
       "       -0.25435013,  0.00243019,  0.3064391 , -0.31338617,  0.12087324,\n",
       "       -0.02051743,  0.1935794 ,  0.21496446,  0.04203559,  0.160002  ,\n",
       "        0.4592913 ,  0.36503813, -0.6454685 , -0.39868924,  0.10852361,\n",
       "        0.47529882,  0.00685887, -0.1039185 ,  0.11489415, -0.06589157,\n",
       "       -0.17787282, -0.43889278, -0.03647529, -0.2777268 , -0.02280478,\n",
       "        0.05427613,  0.31385356, -0.02756672, -0.00083093,  0.23858325,\n",
       "        0.4070932 , -0.06214287, -0.09206546,  0.35222846,  0.0558262 ,\n",
       "        0.08627217,  0.341949  ,  0.5356287 , -0.17984217, -0.2791247 ,\n",
       "       -0.03906284, -0.02042137,  0.7297735 , -0.5062101 ,  0.01233893,\n",
       "        0.344574  ,  0.08159775, -0.27806813, -0.14135158,  0.16152428,\n",
       "       -0.27453038, -0.15198715, -0.5680852 ,  0.0834265 ,  0.41086176,\n",
       "       -0.1331891 ,  0.12709694,  0.28418708, -0.4202275 ,  0.03551202,\n",
       "       -0.37181246,  0.18436104,  0.24836887,  0.11274835, -0.05557133,\n",
       "       -0.20500982, -0.31077763,  0.01432216, -0.03089471,  0.20441084,\n",
       "        0.292338  , -0.00977061, -0.00842148, -0.26426822, -0.6685253 ,\n",
       "       -0.3599287 ,  0.21151416, -0.14599012, -0.04211751, -0.18086758,\n",
       "        0.16023082, -0.07183677,  0.3665205 ,  0.13321248, -0.2881479 ,\n",
       "        0.17443393,  0.171425  ,  0.31066078, -0.14686629, -0.11950456,\n",
       "        0.25951257,  0.07909188,  0.04181926, -0.17533807,  0.29688507,\n",
       "        0.1835896 ,  0.08106245, -0.2162802 , -0.3726296 ,  0.11849021,\n",
       "        0.20286117,  0.11639997,  0.23005605,  0.55576813, -0.06328958,\n",
       "       -0.05262394,  0.05726799,  0.5167607 , -0.05103124,  0.33352184,\n",
       "        0.28122178,  0.3264591 ,  0.1932332 ,  0.23977165,  0.060104  ,\n",
       "       -0.29664493,  0.42203897, -0.21793474,  0.19760756,  0.35760042,\n",
       "        0.42796195,  0.06739178,  0.01941639,  0.29945037,  0.07992062,\n",
       "       -0.38858885,  0.08547699, -0.35055158, -0.10370886, -0.07257763,\n",
       "       -0.11254475, -0.12858061,  0.02030187, -0.13525079, -0.25997066],\n",
       "      dtype=float32)"
      ]
     },
     "execution_count": 17,
     "metadata": {},
     "output_type": "execute_result"
    }
   ],
   "source": [
    "model.wv['アベノミクス']"
   ]
  },
  {
   "cell_type": "code",
   "execution_count": 19,
   "metadata": {},
   "outputs": [
    {
     "name": "stdout",
     "output_type": "stream",
     "text": [
      "0.7852021\n"
     ]
    }
   ],
   "source": [
    "print(model.wv.similarity('アベノミクス', '三本の矢'))"
   ]
  },
  {
   "cell_type": "code",
   "execution_count": 20,
   "metadata": {},
   "outputs": [
    {
     "data": {
      "text/plain": [
       "[('内需', 0.8037256002426147),\n",
       " ('屋台骨', 0.7968873977661133),\n",
       " ('地方経済', 0.7805672883987427),\n",
       " ('足下', 0.7598000168800354),\n",
       " ('低迷', 0.7580502033233643),\n",
       " ('停滞', 0.7564107775688171),\n",
       " ('腰折れ', 0.7562618255615234),\n",
       " ('デフレマインド', 0.7505618333816528),\n",
       " ('不透明感', 0.7412660121917725),\n",
       " ('破滅', 0.7406598925590515)]"
      ]
     },
     "execution_count": 20,
     "metadata": {},
     "output_type": "execute_result"
    }
   ],
   "source": [
    "similar_words = model.wv.most_similar(positive=['日本経済'], topn=10)\n",
    "similar_words"
   ]
  },
  {
   "cell_type": "markdown",
   "metadata": {},
   "source": [
    "# TF-IDF\n",
    "\n",
    "$$\n",
    "\\textrm{tf}_{i,j} = \\frac{文書 d_{i}に含まれるt_{j}の個数}{文書d_{i}内のすべての単語の個数} = \\frac{\\left| t_{j} \\in d_{i} \\right| }{\\sum_{t_{j} \\in d_{j}}}\n",
    "$$\n",
    "\n",
    "$$\n",
    "\\textrm{idf}_{j} = \\log \\left( \\frac{全文書数+1}{t_{j}が含まれる個数 +1} \\right) + 1 = \\log \\left( \\frac{\\left| D \\right| +1}{\\left| \\left\\{ d : t_{j} \\in d \\right\\} \\right| +1 } \\right) + 1\n",
    "$$\n",
    "\n",
    "\n",
    "で与えられtf-idfはtf値とidfの乗算で表され、それを文書が行、語彙が列として行列形式で並べて求められる。\n",
    "\n",
    "$$\n",
    "\\left(\n",
    "\\begin{array}{cccc}\n",
    "\\textrm{tdidf}_{11} & \\textrm{tdidf}_{12} & \\cdots & \\textrm{tdidf}_{1n} \\\\\n",
    "\\textrm{tdidf}_{21} & \\textrm{tdidf}_{22} & \\cdots & \\textrm{tdidf}_{2n} \\\\\n",
    "\\cdots \\\\\n",
    "\\textrm{tdidf}_{m1} & \\textrm{tdidf}_{n2} & \\cdots & \\textrm{tdidf}_{mn}\n",
    "\\end{array}\n",
    "\\right)\n",
    "$$\n",
    "\n",
    "今回使用するライブラリでは文書ごとにtf-idfが1に規格化されて出力される。$i$番目の文書のベクトルは\n",
    "\n",
    "$$\n",
    "\\textbf{x}_{i} = \\frac{1}{\\sqrt{\\sum_{k=1}^n \\textrm{tdidf}_{ik}^{2}}} \\left(\n",
    "\\begin{array}{cccc}\n",
    "\\textrm{tdidf}_{i1} & \\textrm{tdidf}_{i2} & \\cdots & \\textrm{tdidf}_{n} \n",
    "\\end{array}\n",
    "\\right)\n",
    "$$\n",
    "となる。CountVectorizerのライブラリではmax_df, min_dfというオプションがあり、max_df=0.8などと指定すると全文書の8割以上出現するものを無視することができる(min_dfも同様)。自然数で指定した場合は割合ではなく回数となる。"
   ]
  },
  {
   "cell_type": "code",
   "execution_count": 21,
   "metadata": {},
   "outputs": [
    {
     "name": "stdout",
     "output_type": "stream",
     "text": [
      "Bag of Words\n"
     ]
    },
    {
     "data": {
      "text/html": [
       "<div>\n",
       "<style scoped>\n",
       "    .dataframe tbody tr th:only-of-type {\n",
       "        vertical-align: middle;\n",
       "    }\n",
       "\n",
       "    .dataframe tbody tr th {\n",
       "        vertical-align: top;\n",
       "    }\n",
       "\n",
       "    .dataframe thead th {\n",
       "        text-align: right;\n",
       "    }\n",
       "</style>\n",
       "<table border=\"1\" class=\"dataframe\">\n",
       "  <thead>\n",
       "    <tr style=\"text-align: right;\">\n",
       "      <th></th>\n",
       "      <th>一駅</th>\n",
       "      <th>乗り換える</th>\n",
       "      <th>乗る</th>\n",
       "      <th>品川駅</th>\n",
       "      <th>大宮</th>\n",
       "      <th>山手線</th>\n",
       "      <th>東京駅</th>\n",
       "      <th>東北新幹線</th>\n",
       "      <th>東海道新幹線</th>\n",
       "      <th>行く</th>\n",
       "    </tr>\n",
       "  </thead>\n",
       "  <tbody>\n",
       "    <tr>\n",
       "      <th>東京駅 行く</th>\n",
       "      <td>0</td>\n",
       "      <td>0</td>\n",
       "      <td>0</td>\n",
       "      <td>0</td>\n",
       "      <td>0</td>\n",
       "      <td>0</td>\n",
       "      <td>1</td>\n",
       "      <td>0</td>\n",
       "      <td>0</td>\n",
       "      <td>1</td>\n",
       "    </tr>\n",
       "    <tr>\n",
       "      <th>東京駅 山手線 乗る</th>\n",
       "      <td>0</td>\n",
       "      <td>0</td>\n",
       "      <td>1</td>\n",
       "      <td>0</td>\n",
       "      <td>0</td>\n",
       "      <td>1</td>\n",
       "      <td>1</td>\n",
       "      <td>0</td>\n",
       "      <td>0</td>\n",
       "      <td>0</td>\n",
       "    </tr>\n",
       "    <tr>\n",
       "      <th>東京駅 品川駅 東海道新幹線 一駅</th>\n",
       "      <td>1</td>\n",
       "      <td>0</td>\n",
       "      <td>0</td>\n",
       "      <td>1</td>\n",
       "      <td>0</td>\n",
       "      <td>0</td>\n",
       "      <td>1</td>\n",
       "      <td>0</td>\n",
       "      <td>1</td>\n",
       "      <td>0</td>\n",
       "    </tr>\n",
       "    <tr>\n",
       "      <th>東京駅 大宮 大宮 東北新幹線 乗り換える</th>\n",
       "      <td>0</td>\n",
       "      <td>1</td>\n",
       "      <td>0</td>\n",
       "      <td>0</td>\n",
       "      <td>2</td>\n",
       "      <td>0</td>\n",
       "      <td>1</td>\n",
       "      <td>1</td>\n",
       "      <td>0</td>\n",
       "      <td>0</td>\n",
       "    </tr>\n",
       "  </tbody>\n",
       "</table>\n",
       "</div>"
      ],
      "text/plain": [
       "                       一駅  乗り換える  乗る  品川駅  大宮  山手線  東京駅  東北新幹線  東海道新幹線  行く\n",
       "東京駅 行く                  0      0   0    0   0    0    1      0       0   1\n",
       "東京駅 山手線 乗る              0      0   1    0   0    1    1      0       0   0\n",
       "東京駅 品川駅 東海道新幹線 一駅       1      0   0    1   0    0    1      0       1   0\n",
       "東京駅 大宮 大宮 東北新幹線 乗り換える   0      1   0    0   2    0    1      1       0   0"
      ]
     },
     "metadata": {},
     "output_type": "display_data"
    },
    {
     "name": "stdout",
     "output_type": "stream",
     "text": [
      "tfidf\n"
     ]
    },
    {
     "data": {
      "text/html": [
       "<div>\n",
       "<style scoped>\n",
       "    .dataframe tbody tr th:only-of-type {\n",
       "        vertical-align: middle;\n",
       "    }\n",
       "\n",
       "    .dataframe tbody tr th {\n",
       "        vertical-align: top;\n",
       "    }\n",
       "\n",
       "    .dataframe thead th {\n",
       "        text-align: right;\n",
       "    }\n",
       "</style>\n",
       "<table border=\"1\" class=\"dataframe\">\n",
       "  <thead>\n",
       "    <tr style=\"text-align: right;\">\n",
       "      <th></th>\n",
       "      <th>一駅</th>\n",
       "      <th>乗り換える</th>\n",
       "      <th>乗る</th>\n",
       "      <th>品川駅</th>\n",
       "      <th>大宮</th>\n",
       "      <th>山手線</th>\n",
       "      <th>東京駅</th>\n",
       "      <th>東北新幹線</th>\n",
       "      <th>東海道新幹線</th>\n",
       "      <th>行く</th>\n",
       "    </tr>\n",
       "  </thead>\n",
       "  <tbody>\n",
       "    <tr>\n",
       "      <th>東京駅 行く</th>\n",
       "      <td>0.000000</td>\n",
       "      <td>0.000000</td>\n",
       "      <td>0.000000</td>\n",
       "      <td>0.000000</td>\n",
       "      <td>0.000000</td>\n",
       "      <td>0.000000</td>\n",
       "      <td>0.462637</td>\n",
       "      <td>0.000000</td>\n",
       "      <td>0.000000</td>\n",
       "      <td>0.886548</td>\n",
       "    </tr>\n",
       "    <tr>\n",
       "      <th>東京駅 山手線 乗る</th>\n",
       "      <td>0.000000</td>\n",
       "      <td>0.000000</td>\n",
       "      <td>0.663385</td>\n",
       "      <td>0.000000</td>\n",
       "      <td>0.000000</td>\n",
       "      <td>0.663385</td>\n",
       "      <td>0.346182</td>\n",
       "      <td>0.000000</td>\n",
       "      <td>0.000000</td>\n",
       "      <td>0.000000</td>\n",
       "    </tr>\n",
       "    <tr>\n",
       "      <th>東京駅 品川駅 東海道新幹線 一駅</th>\n",
       "      <td>0.552805</td>\n",
       "      <td>0.000000</td>\n",
       "      <td>0.000000</td>\n",
       "      <td>0.552805</td>\n",
       "      <td>0.000000</td>\n",
       "      <td>0.000000</td>\n",
       "      <td>0.288477</td>\n",
       "      <td>0.000000</td>\n",
       "      <td>0.552805</td>\n",
       "      <td>0.000000</td>\n",
       "    </tr>\n",
       "    <tr>\n",
       "      <th>東京駅 大宮 大宮 東北新幹線 乗り換える</th>\n",
       "      <td>0.000000</td>\n",
       "      <td>0.399288</td>\n",
       "      <td>0.000000</td>\n",
       "      <td>0.000000</td>\n",
       "      <td>0.798575</td>\n",
       "      <td>0.000000</td>\n",
       "      <td>0.208365</td>\n",
       "      <td>0.399288</td>\n",
       "      <td>0.000000</td>\n",
       "      <td>0.000000</td>\n",
       "    </tr>\n",
       "  </tbody>\n",
       "</table>\n",
       "</div>"
      ],
      "text/plain": [
       "                             一駅     乗り換える        乗る       品川駅        大宮  \\\n",
       "東京駅 行く                 0.000000  0.000000  0.000000  0.000000  0.000000   \n",
       "東京駅 山手線 乗る             0.000000  0.000000  0.663385  0.000000  0.000000   \n",
       "東京駅 品川駅 東海道新幹線 一駅      0.552805  0.000000  0.000000  0.552805  0.000000   \n",
       "東京駅 大宮 大宮 東北新幹線 乗り換える  0.000000  0.399288  0.000000  0.000000  0.798575   \n",
       "\n",
       "                            山手線       東京駅     東北新幹線    東海道新幹線        行く  \n",
       "東京駅 行く                 0.000000  0.462637  0.000000  0.000000  0.886548  \n",
       "東京駅 山手線 乗る             0.663385  0.346182  0.000000  0.000000  0.000000  \n",
       "東京駅 品川駅 東海道新幹線 一駅      0.000000  0.288477  0.000000  0.552805  0.000000  \n",
       "東京駅 大宮 大宮 東北新幹線 乗り換える  0.000000  0.208365  0.399288  0.000000  0.000000  "
      ]
     },
     "metadata": {},
     "output_type": "display_data"
    },
    {
     "name": "stdout",
     "output_type": "stream",
     "text": [
      "max_df=0.5\n",
      "Bag of Words\n"
     ]
    },
    {
     "data": {
      "text/html": [
       "<div>\n",
       "<style scoped>\n",
       "    .dataframe tbody tr th:only-of-type {\n",
       "        vertical-align: middle;\n",
       "    }\n",
       "\n",
       "    .dataframe tbody tr th {\n",
       "        vertical-align: top;\n",
       "    }\n",
       "\n",
       "    .dataframe thead th {\n",
       "        text-align: right;\n",
       "    }\n",
       "</style>\n",
       "<table border=\"1\" class=\"dataframe\">\n",
       "  <thead>\n",
       "    <tr style=\"text-align: right;\">\n",
       "      <th></th>\n",
       "      <th>一駅</th>\n",
       "      <th>乗り換える</th>\n",
       "      <th>乗る</th>\n",
       "      <th>品川駅</th>\n",
       "      <th>大宮</th>\n",
       "      <th>山手線</th>\n",
       "      <th>東北新幹線</th>\n",
       "      <th>東海道新幹線</th>\n",
       "      <th>行く</th>\n",
       "    </tr>\n",
       "  </thead>\n",
       "  <tbody>\n",
       "    <tr>\n",
       "      <th>東京駅 行く</th>\n",
       "      <td>0</td>\n",
       "      <td>0</td>\n",
       "      <td>0</td>\n",
       "      <td>0</td>\n",
       "      <td>0</td>\n",
       "      <td>0</td>\n",
       "      <td>0</td>\n",
       "      <td>0</td>\n",
       "      <td>1</td>\n",
       "    </tr>\n",
       "    <tr>\n",
       "      <th>東京駅 山手線 乗る</th>\n",
       "      <td>0</td>\n",
       "      <td>0</td>\n",
       "      <td>1</td>\n",
       "      <td>0</td>\n",
       "      <td>0</td>\n",
       "      <td>1</td>\n",
       "      <td>0</td>\n",
       "      <td>0</td>\n",
       "      <td>0</td>\n",
       "    </tr>\n",
       "    <tr>\n",
       "      <th>東京駅 品川駅 東海道新幹線 一駅</th>\n",
       "      <td>1</td>\n",
       "      <td>0</td>\n",
       "      <td>0</td>\n",
       "      <td>1</td>\n",
       "      <td>0</td>\n",
       "      <td>0</td>\n",
       "      <td>0</td>\n",
       "      <td>1</td>\n",
       "      <td>0</td>\n",
       "    </tr>\n",
       "    <tr>\n",
       "      <th>東京駅 大宮 大宮 東北新幹線 乗り換える</th>\n",
       "      <td>0</td>\n",
       "      <td>1</td>\n",
       "      <td>0</td>\n",
       "      <td>0</td>\n",
       "      <td>2</td>\n",
       "      <td>0</td>\n",
       "      <td>1</td>\n",
       "      <td>0</td>\n",
       "      <td>0</td>\n",
       "    </tr>\n",
       "  </tbody>\n",
       "</table>\n",
       "</div>"
      ],
      "text/plain": [
       "                       一駅  乗り換える  乗る  品川駅  大宮  山手線  東北新幹線  東海道新幹線  行く\n",
       "東京駅 行く                  0      0   0    0   0    0      0       0   1\n",
       "東京駅 山手線 乗る              0      0   1    0   0    1      0       0   0\n",
       "東京駅 品川駅 東海道新幹線 一駅       1      0   0    1   0    0      0       1   0\n",
       "東京駅 大宮 大宮 東北新幹線 乗り換える   0      1   0    0   2    0      1       0   0"
      ]
     },
     "metadata": {},
     "output_type": "display_data"
    },
    {
     "name": "stdout",
     "output_type": "stream",
     "text": [
      "tfidf\n"
     ]
    },
    {
     "data": {
      "text/html": [
       "<div>\n",
       "<style scoped>\n",
       "    .dataframe tbody tr th:only-of-type {\n",
       "        vertical-align: middle;\n",
       "    }\n",
       "\n",
       "    .dataframe tbody tr th {\n",
       "        vertical-align: top;\n",
       "    }\n",
       "\n",
       "    .dataframe thead th {\n",
       "        text-align: right;\n",
       "    }\n",
       "</style>\n",
       "<table border=\"1\" class=\"dataframe\">\n",
       "  <thead>\n",
       "    <tr style=\"text-align: right;\">\n",
       "      <th></th>\n",
       "      <th>一駅</th>\n",
       "      <th>乗り換える</th>\n",
       "      <th>乗る</th>\n",
       "      <th>品川駅</th>\n",
       "      <th>大宮</th>\n",
       "      <th>山手線</th>\n",
       "      <th>東北新幹線</th>\n",
       "      <th>東海道新幹線</th>\n",
       "      <th>行く</th>\n",
       "    </tr>\n",
       "  </thead>\n",
       "  <tbody>\n",
       "    <tr>\n",
       "      <th>東京駅 行く</th>\n",
       "      <td>0.00000</td>\n",
       "      <td>0.000000</td>\n",
       "      <td>0.000000</td>\n",
       "      <td>0.00000</td>\n",
       "      <td>0.000000</td>\n",
       "      <td>0.000000</td>\n",
       "      <td>0.000000</td>\n",
       "      <td>0.00000</td>\n",
       "      <td>1.0</td>\n",
       "    </tr>\n",
       "    <tr>\n",
       "      <th>東京駅 山手線 乗る</th>\n",
       "      <td>0.00000</td>\n",
       "      <td>0.000000</td>\n",
       "      <td>0.707107</td>\n",
       "      <td>0.00000</td>\n",
       "      <td>0.000000</td>\n",
       "      <td>0.707107</td>\n",
       "      <td>0.000000</td>\n",
       "      <td>0.00000</td>\n",
       "      <td>0.0</td>\n",
       "    </tr>\n",
       "    <tr>\n",
       "      <th>東京駅 品川駅 東海道新幹線 一駅</th>\n",
       "      <td>0.57735</td>\n",
       "      <td>0.000000</td>\n",
       "      <td>0.000000</td>\n",
       "      <td>0.57735</td>\n",
       "      <td>0.000000</td>\n",
       "      <td>0.000000</td>\n",
       "      <td>0.000000</td>\n",
       "      <td>0.57735</td>\n",
       "      <td>0.0</td>\n",
       "    </tr>\n",
       "    <tr>\n",
       "      <th>東京駅 大宮 大宮 東北新幹線 乗り換える</th>\n",
       "      <td>0.00000</td>\n",
       "      <td>0.408248</td>\n",
       "      <td>0.000000</td>\n",
       "      <td>0.00000</td>\n",
       "      <td>0.816497</td>\n",
       "      <td>0.000000</td>\n",
       "      <td>0.408248</td>\n",
       "      <td>0.00000</td>\n",
       "      <td>0.0</td>\n",
       "    </tr>\n",
       "  </tbody>\n",
       "</table>\n",
       "</div>"
      ],
      "text/plain": [
       "                            一駅     乗り換える        乗る      品川駅        大宮  \\\n",
       "東京駅 行く                 0.00000  0.000000  0.000000  0.00000  0.000000   \n",
       "東京駅 山手線 乗る             0.00000  0.000000  0.707107  0.00000  0.000000   \n",
       "東京駅 品川駅 東海道新幹線 一駅      0.57735  0.000000  0.000000  0.57735  0.000000   \n",
       "東京駅 大宮 大宮 東北新幹線 乗り換える  0.00000  0.408248  0.000000  0.00000  0.816497   \n",
       "\n",
       "                            山手線     東北新幹線   東海道新幹線   行く  \n",
       "東京駅 行く                 0.000000  0.000000  0.00000  1.0  \n",
       "東京駅 山手線 乗る             0.707107  0.000000  0.00000  0.0  \n",
       "東京駅 品川駅 東海道新幹線 一駅      0.000000  0.000000  0.57735  0.0  \n",
       "東京駅 大宮 大宮 東北新幹線 乗り換える  0.000000  0.408248  0.00000  0.0  "
      ]
     },
     "metadata": {},
     "output_type": "display_data"
    },
    {
     "name": "stdout",
     "output_type": "stream",
     "text": [
      "min_df=0.3\n",
      "Bag of Words\n"
     ]
    },
    {
     "data": {
      "text/html": [
       "<div>\n",
       "<style scoped>\n",
       "    .dataframe tbody tr th:only-of-type {\n",
       "        vertical-align: middle;\n",
       "    }\n",
       "\n",
       "    .dataframe tbody tr th {\n",
       "        vertical-align: top;\n",
       "    }\n",
       "\n",
       "    .dataframe thead th {\n",
       "        text-align: right;\n",
       "    }\n",
       "</style>\n",
       "<table border=\"1\" class=\"dataframe\">\n",
       "  <thead>\n",
       "    <tr style=\"text-align: right;\">\n",
       "      <th></th>\n",
       "      <th>東京駅</th>\n",
       "    </tr>\n",
       "  </thead>\n",
       "  <tbody>\n",
       "    <tr>\n",
       "      <th>東京駅 行く</th>\n",
       "      <td>1</td>\n",
       "    </tr>\n",
       "    <tr>\n",
       "      <th>東京駅 山手線 乗る</th>\n",
       "      <td>1</td>\n",
       "    </tr>\n",
       "    <tr>\n",
       "      <th>東京駅 品川駅 東海道新幹線 一駅</th>\n",
       "      <td>1</td>\n",
       "    </tr>\n",
       "    <tr>\n",
       "      <th>東京駅 大宮 大宮 東北新幹線 乗り換える</th>\n",
       "      <td>1</td>\n",
       "    </tr>\n",
       "  </tbody>\n",
       "</table>\n",
       "</div>"
      ],
      "text/plain": [
       "                       東京駅\n",
       "東京駅 行く                   1\n",
       "東京駅 山手線 乗る               1\n",
       "東京駅 品川駅 東海道新幹線 一駅        1\n",
       "東京駅 大宮 大宮 東北新幹線 乗り換える    1"
      ]
     },
     "metadata": {},
     "output_type": "display_data"
    },
    {
     "name": "stdout",
     "output_type": "stream",
     "text": [
      "tfidf\n"
     ]
    },
    {
     "data": {
      "text/html": [
       "<div>\n",
       "<style scoped>\n",
       "    .dataframe tbody tr th:only-of-type {\n",
       "        vertical-align: middle;\n",
       "    }\n",
       "\n",
       "    .dataframe tbody tr th {\n",
       "        vertical-align: top;\n",
       "    }\n",
       "\n",
       "    .dataframe thead th {\n",
       "        text-align: right;\n",
       "    }\n",
       "</style>\n",
       "<table border=\"1\" class=\"dataframe\">\n",
       "  <thead>\n",
       "    <tr style=\"text-align: right;\">\n",
       "      <th></th>\n",
       "      <th>東京駅</th>\n",
       "    </tr>\n",
       "  </thead>\n",
       "  <tbody>\n",
       "    <tr>\n",
       "      <th>東京駅 行く</th>\n",
       "      <td>1.0</td>\n",
       "    </tr>\n",
       "    <tr>\n",
       "      <th>東京駅 山手線 乗る</th>\n",
       "      <td>1.0</td>\n",
       "    </tr>\n",
       "    <tr>\n",
       "      <th>東京駅 品川駅 東海道新幹線 一駅</th>\n",
       "      <td>1.0</td>\n",
       "    </tr>\n",
       "    <tr>\n",
       "      <th>東京駅 大宮 大宮 東北新幹線 乗り換える</th>\n",
       "      <td>1.0</td>\n",
       "    </tr>\n",
       "  </tbody>\n",
       "</table>\n",
       "</div>"
      ],
      "text/plain": [
       "                       東京駅\n",
       "東京駅 行く                 1.0\n",
       "東京駅 山手線 乗る             1.0\n",
       "東京駅 品川駅 東海道新幹線 一駅      1.0\n",
       "東京駅 大宮 大宮 東北新幹線 乗り換える  1.0"
      ]
     },
     "metadata": {},
     "output_type": "display_data"
    }
   ],
   "source": [
    "from sklearn.feature_extraction.text import CountVectorizer, TfidfTransformer\n",
    "import pandas as pd\n",
    "corpus = ['東京駅 行く', \\\n",
    "          '東京駅 山手線 乗る',\\\n",
    "          '東京駅 品川駅 東海道新幹線 一駅',\\\n",
    "          '東京駅 大宮 大宮 東北新幹線 乗り換える']\n",
    "vec = CountVectorizer()\n",
    "X = vec.fit_transform(corpus)\n",
    "print('Bag of Words')\n",
    "display(pd.DataFrame(X.toarray(), columns=vec.get_feature_names(), index=corpus))\n",
    "print('tfidf')\n",
    "tfidf = TfidfTransformer()\n",
    "X_tfidf = tfidf.fit_transform(X)\n",
    "display(pd.DataFrame(X_tfidf.toarray(), columns=vec.get_feature_names(), index=corpus))\n",
    "\n",
    "print('max_df=0.5')\n",
    "vec = CountVectorizer(max_df=0.5)\n",
    "X = vec.fit_transform(corpus)\n",
    "print('Bag of Words')\n",
    "display(pd.DataFrame(X.toarray(), columns=vec.get_feature_names(), index=corpus))\n",
    "print('tfidf')\n",
    "tfidf = TfidfTransformer()\n",
    "X_tfidf = tfidf.fit_transform(X)\n",
    "display(pd.DataFrame(X_tfidf.toarray(), columns=vec.get_feature_names(), index=corpus))\n",
    "\n",
    "print('min_df=0.3')\n",
    "vec = CountVectorizer(min_df=0.3)\n",
    "X = vec.fit_transform(corpus)\n",
    "print('Bag of Words')\n",
    "display(pd.DataFrame(X.toarray(), columns=vec.get_feature_names(), index=corpus))\n",
    "print('tfidf')\n",
    "tfidf = TfidfTransformer()\n",
    "X_tfidf = tfidf.fit_transform(X)\n",
    "display(pd.DataFrame(X_tfidf.toarray(), columns=vec.get_feature_names(), index=corpus))"
   ]
  },
  {
   "cell_type": "markdown",
   "metadata": {},
   "source": [
    "# Doc2Vec\n",
    "gensimのDoc2Vecを用いる。"
   ]
  },
  {
   "cell_type": "code",
   "execution_count": 22,
   "metadata": {},
   "outputs": [],
   "source": [
    "import pandas as pd\n",
    "import MeCab\n",
    "import mojimoji\n",
    "from gensim.models.doc2vec import Doc2Vec, TaggedDocument\n",
    "\n",
    "df_input = pd.read_csv('../data/kokkai.csv', header=0)\n",
    "df_input['text_ana'] = df_input['text'].map(text_to_words)"
   ]
  },
  {
   "cell_type": "code",
   "execution_count": 23,
   "metadata": {},
   "outputs": [
    {
     "data": {
      "text/html": [
       "<div>\n",
       "<style scoped>\n",
       "    .dataframe tbody tr th:only-of-type {\n",
       "        vertical-align: middle;\n",
       "    }\n",
       "\n",
       "    .dataframe tbody tr th {\n",
       "        vertical-align: top;\n",
       "    }\n",
       "\n",
       "    .dataframe thead th {\n",
       "        text-align: right;\n",
       "    }\n",
       "</style>\n",
       "<table border=\"1\" class=\"dataframe\">\n",
       "  <thead>\n",
       "    <tr style=\"text-align: right;\">\n",
       "      <th></th>\n",
       "      <th>date</th>\n",
       "      <th>house</th>\n",
       "      <th>meeting</th>\n",
       "      <th>speech_order</th>\n",
       "      <th>text</th>\n",
       "      <th>text_ana</th>\n",
       "    </tr>\n",
       "  </thead>\n",
       "  <tbody>\n",
       "    <tr>\n",
       "      <th>0</th>\n",
       "      <td>2019-12-03</td>\n",
       "      <td>参議院</td>\n",
       "      <td>経済産業委員会</td>\n",
       "      <td>0</td>\n",
       "      <td>令和元年十二月三日（火曜日）\\r\\n　　　午前十時開会\\r\\n　　　　───────────...</td>\n",
       "      <td>令和元年 十二月三日 火曜日 午前 十時 開会 委員 異動 十一月二十八日 辞任 補欠 選任...</td>\n",
       "    </tr>\n",
       "    <tr>\n",
       "      <th>1</th>\n",
       "      <td>2019-12-03</td>\n",
       "      <td>参議院</td>\n",
       "      <td>経済産業委員会</td>\n",
       "      <td>1</td>\n",
       "      <td>○委員長（礒崎哲史君）　ただいまから経済産業委員会を開会いたします。\\r\\n　委員の異動につ...</td>\n",
       "      <td>委員長 礒崎哲史 君 経済産業委員会 開会 いたす 委員 異動 報告 いたす 昨日 三木亨 ...</td>\n",
       "    </tr>\n",
       "    <tr>\n",
       "      <th>2</th>\n",
       "      <td>2019-12-03</td>\n",
       "      <td>参議院</td>\n",
       "      <td>経済産業委員会</td>\n",
       "      <td>2</td>\n",
       "      <td>○委員長（礒崎哲史君）　政府参考人の出席要求に関する件についてお諮りいたします。\\r\\n　外...</td>\n",
       "      <td>委員長 礒崎哲史 君 政府参考人 出席 要求 件 諮る いたす 外国為替及び外国貿易法 第十...</td>\n",
       "    </tr>\n",
       "    <tr>\n",
       "      <th>3</th>\n",
       "      <td>2019-12-03</td>\n",
       "      <td>参議院</td>\n",
       "      <td>経済産業委員会</td>\n",
       "      <td>3</td>\n",
       "      <td>○委員長（礒崎哲史君）　御異議ないと認め、さよう決定いたします。\\r\\n　　　　──────...</td>\n",
       "      <td>委員長 礒崎哲史 君 異議 ない 認める 決定 いたす</td>\n",
       "    </tr>\n",
       "    <tr>\n",
       "      <th>4</th>\n",
       "      <td>2019-12-03</td>\n",
       "      <td>参議院</td>\n",
       "      <td>経済産業委員会</td>\n",
       "      <td>4</td>\n",
       "      <td>○委員長（礒崎哲史君）　外国為替及び外国貿易法第十条第二項の規定に基づき、北朝鮮を仕向地とす...</td>\n",
       "      <td>委員長 礒崎哲史 君 外国為替及び外国貿易法 第十条 項 規定 基づく 北朝鮮 仕向 する ...</td>\n",
       "    </tr>\n",
       "  </tbody>\n",
       "</table>\n",
       "</div>"
      ],
      "text/plain": [
       "         date house  meeting  speech_order  \\\n",
       "0  2019-12-03   参議院  経済産業委員会             0   \n",
       "1  2019-12-03   参議院  経済産業委員会             1   \n",
       "2  2019-12-03   参議院  経済産業委員会             2   \n",
       "3  2019-12-03   参議院  経済産業委員会             3   \n",
       "4  2019-12-03   参議院  経済産業委員会             4   \n",
       "\n",
       "                                                text  \\\n",
       "0  令和元年十二月三日（火曜日）\\r\\n　　　午前十時開会\\r\\n　　　　───────────...   \n",
       "1  ○委員長（礒崎哲史君）　ただいまから経済産業委員会を開会いたします。\\r\\n　委員の異動につ...   \n",
       "2  ○委員長（礒崎哲史君）　政府参考人の出席要求に関する件についてお諮りいたします。\\r\\n　外...   \n",
       "3  ○委員長（礒崎哲史君）　御異議ないと認め、さよう決定いたします。\\r\\n　　　　──────...   \n",
       "4  ○委員長（礒崎哲史君）　外国為替及び外国貿易法第十条第二項の規定に基づき、北朝鮮を仕向地とす...   \n",
       "\n",
       "                                            text_ana  \n",
       "0  令和元年 十二月三日 火曜日 午前 十時 開会 委員 異動 十一月二十八日 辞任 補欠 選任...  \n",
       "1  委員長 礒崎哲史 君 経済産業委員会 開会 いたす 委員 異動 報告 いたす 昨日 三木亨 ...  \n",
       "2  委員長 礒崎哲史 君 政府参考人 出席 要求 件 諮る いたす 外国為替及び外国貿易法 第十...  \n",
       "3                        委員長 礒崎哲史 君 異議 ない 認める 決定 いたす  \n",
       "4  委員長 礒崎哲史 君 外国為替及び外国貿易法 第十条 項 規定 基づく 北朝鮮 仕向 する ...  "
      ]
     },
     "execution_count": 23,
     "metadata": {},
     "output_type": "execute_result"
    }
   ],
   "source": [
    "df_input.head()"
   ]
  },
  {
   "cell_type": "markdown",
   "metadata": {},
   "source": [
    "## 前処理\n",
    "Doc2Vecのための準備を行う。TaggedDocumentを用いてデータを準備する。  \n",
    "TaggedDocumentは以下の形式で作成する。  \n",
    "&nbsp;&nbsp;TaggedDocument(分かち書きした文書(単語ごとのリスト),タグ(文書ID))\n",
    "\n",
    "ここではタグは日付+参議院or衆議院+会議名とする。"
   ]
  },
  {
   "cell_type": "code",
   "execution_count": 24,
   "metadata": {},
   "outputs": [],
   "source": [
    "keys = df_input[['date', 'house', 'meeting']].drop_duplicates().values.tolist()\n",
    "tagged_corpus = []\n",
    "for key_list in keys:\n",
    "    df = df_input[(df_input['date'] == key_list[0]) & \\\n",
    "                  (df_input['house'] == key_list[1]) & \\\n",
    "                  (df_input['meeting'] == key_list[2]) \\\n",
    "                 ]\n",
    "    df = df.sort_values(by=['speech_order'])\n",
    "    sentence = ' \\n '.join(df['text_ana'].values.tolist())\n",
    "    sentence = sentence.split(' ')\n",
    "    tag = ['{}{}{}'.format(key_list[0], key_list[1], key_list[2])]\n",
    "    tagged_corpus.append(TaggedDocument(sentence, tag))\n",
    "                         "
   ]
  },
  {
   "cell_type": "markdown",
   "metadata": {},
   "source": [
    "## モデル作成\n",
    "モデル作成を行い、このモデルを保管する。 　\n",
    "- vecrsize→次元数。\n",
    "- window→前後どこまでを対象とするか。\n",
    "- dm→1はdmpvそれ以外はDBOW"
   ]
  },
  {
   "cell_type": "code",
   "execution_count": 27,
   "metadata": {},
   "outputs": [
    {
     "name": "stderr",
     "output_type": "stream",
     "text": [
      "/Users/tomone_hata/opt/anaconda3/lib/python3.7/site-packages/ipykernel_launcher.py:3: DeprecationWarning: Call to deprecated `docvecs` (The `docvecs` property has been renamed `dv`.).\n",
      "  This is separate from the ipykernel package so we can avoid doing imports until\n"
     ]
    },
    {
     "data": {
      "text/plain": [
       "[('2019-11-22衆議院経済産業委員会', 0.6214159727096558),\n",
       " ('2019-11-14参議院経済産業委員会', 0.5819849967956543),\n",
       " ('2019-05-16参議院経済産業委員会', 0.5752360224723816),\n",
       " ('2019-03-14参議院経済産業委員会', 0.5379735827445984),\n",
       " ('2019-05-28参議院経済産業委員会', 0.5098767280578613),\n",
       " ('2019-05-23参議院経済産業委員会', 0.5002453923225403),\n",
       " ('2019-12-09参議院経済産業委員会', 0.4995992183685303),\n",
       " ('2019-06-26参議院経済産業委員会', 0.49713918566703796),\n",
       " ('2019-08-05参議院経済産業委員会', 0.48783719539642334),\n",
       " ('2019-05-21参議院経済産業委員会', 0.4795587360858917)]"
      ]
     },
     "execution_count": 27,
     "metadata": {},
     "output_type": "execute_result"
    }
   ],
   "source": [
    "model = Doc2Vec(documents=tagged_corpus, vector_size=300, window=3, dm = 1)\n",
    "#'2017-05-29_参議院_本会議'\n",
    "model.docvecs.most_similar('2019-12-03参議院経済産業委員会')"
   ]
  },
  {
   "cell_type": "code",
   "execution_count": 23,
   "metadata": {},
   "outputs": [
    {
     "data": {
      "text/plain": [
       "(300,)"
      ]
     },
     "execution_count": 23,
     "metadata": {},
     "output_type": "execute_result"
    }
   ],
   "source": [
    "model.docvecs['2019-12-03参議院経済産業委員会'].shape"
   ]
  },
  {
   "cell_type": "code",
   "execution_count": null,
   "metadata": {},
   "outputs": [],
   "source": []
  }
 ],
 "metadata": {
  "kernelspec": {
   "display_name": "Python 3",
   "language": "python",
   "name": "python3"
  },
  "language_info": {
   "codemirror_mode": {
    "name": "ipython",
    "version": 3
   },
   "file_extension": ".py",
   "mimetype": "text/x-python",
   "name": "python",
   "nbconvert_exporter": "python",
   "pygments_lexer": "ipython3",
   "version": "3.7.10"
  }
 },
 "nbformat": 4,
 "nbformat_minor": 4
}
