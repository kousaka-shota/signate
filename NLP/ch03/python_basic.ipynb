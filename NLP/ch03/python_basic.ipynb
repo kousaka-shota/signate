{
 "cells": [
  {
   "cell_type": "markdown",
   "metadata": {},
   "source": [
    "# Python文法の基礎\n",
    "ここではPythonの文法の復習をする。Progateなどの入門サイトを一度やったことがあることを前提に、簡略化して解説する。"
   ]
  },
  {
   "cell_type": "markdown",
   "metadata": {},
   "source": [
    "# 変数\n",
    "Pythonでは変数の宣言時に特に変数型を定義する必要はなく、代入されたものから判断して変数型を自動で設定する。"
   ]
  },
  {
   "cell_type": "code",
   "execution_count": null,
   "metadata": {},
   "outputs": [],
   "source": [
    "a = 2                             # int\n",
    "print(a, type(a))\n",
    "b = 2.4444                        #float\n",
    "print(b, type(b))\n",
    "c= 'This is a pen.'               # str\n",
    "print(c, type(c))\n",
    "d=True                           #boolean\n",
    "print(d, type(d))\n",
    "e=False                          #boolean\n",
    "print(e, type(e))\n",
    "f=[1,2,3,4,5]                    # list\n",
    "print(f, type(f))\n",
    "g=(1,2,3,4,5)                    # tupple\n",
    "print(g, type(g))\n",
    "h={1:'北海道', 2:'青森', 47:'沖縄'} #dict\n",
    "print(h, type(h))"
   ]
  },
  {
   "cell_type": "markdown",
   "metadata": {},
   "source": [
    "## コメントアウト\n",
    "コメントアウトは#で行う。複数行コメントアウトする場合は''' '''で囲む"
   ]
  },
  {
   "cell_type": "code",
   "execution_count": null,
   "metadata": {},
   "outputs": [],
   "source": [
    "print('Is this a pen?')\n",
    "# これはコメントです\n",
    "'''\n",
    "複数行のコメントを書きたい場合は\n",
    "こんな感じで囲むんだよ！\n",
    "(^o^)\n",
    "'''\n",
    "print('That is a pen!')"
   ]
  },
  {
   "cell_type": "markdown",
   "metadata": {},
   "source": [
    "## 四則演算\n",
    "数値型は四則演算をおこなうことができる。使う演算子と内容は以下の通り。\n",
    "\n",
    "|演算子|計算内容|\n",
    "|:---:|:------|\n",
    "|+|加法|\n",
    "|-|減法|\n",
    "|*|乗法|\n",
    "|/|除法|\n",
    "|**|累乗|\n",
    "|%|剰余(余り)|\n",
    "|//|除法(切り捨て)|"
   ]
  },
  {
   "cell_type": "code",
   "execution_count": null,
   "metadata": {},
   "outputs": [],
   "source": [
    "a=8\n",
    "b=3\n",
    "print('加法', a+b)\n",
    "print('減法', a-b)\n",
    "print('乗法', a*b)\n",
    "print('除法', a/b)\n",
    "print('累乗', a**b)\n",
    "print('剰余', a%b)\n",
    "print('切り捨て', a//b)"
   ]
  },
  {
   "cell_type": "markdown",
   "metadata": {},
   "source": [
    "## 代入演算子\n",
    "その変数自体に演算をしたい場合は\n",
    "\n",
    "変数 演算子=　演算したい値\n",
    "のように書けばいい。例えば変数aに2を足した場合は  \n",
    "a += 2\n",
    "のように書く。"
   ]
  },
  {
   "cell_type": "code",
   "execution_count": null,
   "metadata": {},
   "outputs": [],
   "source": [
    "a=5\n",
    "a = a/2\n",
    "print(a)"
   ]
  },
  {
   "cell_type": "code",
   "execution_count": null,
   "metadata": {},
   "outputs": [],
   "source": [
    "a=5\n",
    "a /= 2\n",
    "print(a)"
   ]
  },
  {
   "cell_type": "markdown",
   "metadata": {},
   "source": [
    "# 文字列\n",
    "## 文字列の結合\n",
    "文字列の結合は、+の演算子で行うことができる。"
   ]
  },
  {
   "cell_type": "code",
   "execution_count": null,
   "metadata": {},
   "outputs": [],
   "source": [
    "a = '横浜'\n",
    "b = 'DeNA'\n",
    "c = 'ベイスターズ'\n",
    "print(a+b+c)"
   ]
  },
  {
   "cell_type": "markdown",
   "metadata": {},
   "source": [
    "また文字列を並べて書いても、結合される。文字列間の空白は無視される"
   ]
  },
  {
   "cell_type": "code",
   "execution_count": null,
   "metadata": {},
   "outputs": [],
   "source": [
    "a = '横浜' 'DeNA'   'ベイスターズ'\n",
    "print(a)\n",
    "b = '横浜''DeNA''ベイスターズ'\n",
    "print(b)"
   ]
  },
  {
   "cell_type": "markdown",
   "metadata": {},
   "source": [
    "数値の加法と同様に+=を使うこともできる"
   ]
  },
  {
   "cell_type": "code",
   "execution_count": null,
   "metadata": {},
   "outputs": [],
   "source": [
    "a = '東京'\n",
    "a += 'ヤクルト'\n",
    "a += 'スワローズ'\n",
    "print(a)"
   ]
  },
  {
   "cell_type": "markdown",
   "metadata": {},
   "source": [
    "*演算子、同じ文字の繰り返しが得られる。"
   ]
  },
  {
   "cell_type": "code",
   "execution_count": null,
   "metadata": {},
   "outputs": [],
   "source": [
    "a = '東京ヤクルトスワローズ'\n",
    "b = a*4\n",
    "print(b)"
   ]
  },
  {
   "cell_type": "markdown",
   "metadata": {},
   "source": [
    "## 端特定の文字を削除\n",
    "ここでは特定の文字を削除する方法を紹介する。特定の文字削除にはstrip関数を用いる。\n",
    "\n",
    "- stripは両端から削除\n",
    "- lstripは左端\n",
    "- rstripは右端\n"
   ]
  },
  {
   "cell_type": "code",
   "execution_count": null,
   "metadata": {},
   "outputs": [],
   "source": [
    "a = 'abcdcbabcda'\n",
    "print(a)\n",
    "print(a.strip('a'))\n",
    "print(a.lstrip('a'))\n",
    "print(a.rstrip('a'))"
   ]
  },
  {
   "cell_type": "markdown",
   "metadata": {},
   "source": [
    "## 大文字と小文字の変換\n",
    "大文字、小文字の変換には以下のようなものがある。  \n",
    "\n",
    "- 全て大文字にするupper\n",
    "- 全て小文字にするlower\n",
    "- 大文字と小文字を入れ替えるswapcase\n",
    "- 先頭を大文字、その他を小文字にするcapitalize"
   ]
  },
  {
   "cell_type": "code",
   "execution_count": null,
   "metadata": {},
   "outputs": [],
   "source": [
    "a = 'iPhone is VERY expenSive'\n",
    "\n",
    "print(a.upper())\n",
    "print(a.lower())\n",
    "print(a.swapcase())\n",
    "print(a.capitalize())"
   ]
  },
  {
   "cell_type": "markdown",
   "metadata": {},
   "source": [
    "## 文字列のスライス\n",
    "文字列の取り出しには  文字列[数値]  のようにすれば数値文字目を抜き取ることができる。0スタードであることに注意\n",
    "文字列[数値1:数値2]のように指定すると、数値1以上、数値2未満の配列をスライスすることができる。"
   ]
  },
  {
   "cell_type": "code",
   "execution_count": null,
   "metadata": {},
   "outputs": [],
   "source": [
    "a = 'iphone10s'\n",
    "print(a[2])\n",
    "print(a[1:3])\n",
    "print(a[:4])\n",
    "print(a[5:])"
   ]
  },
  {
   "cell_type": "markdown",
   "metadata": {},
   "source": [
    "# 配列(リスト)\n",
    "Pythonでは配列は[]で囲んで定義する。配列の要素の変数型は全て同じにする必要はない。"
   ]
  },
  {
   "cell_type": "code",
   "execution_count": null,
   "metadata": {},
   "outputs": [],
   "source": [
    "a = [1, 2, 3]\n",
    "print(a)\n",
    "b = [1, '2', True, [1, 5, -2.3]]\n",
    "print(b)"
   ]
  },
  {
   "cell_type": "markdown",
   "metadata": {},
   "source": [
    "## 配列へのアクセス\n",
    "配列のアクセスは  変数[数値]  のように記載すれば良い。  \n",
    "変数[数値1:数値2]のように指定すると、数値1以上、数値2未満の配列をスライスすることができる。"
   ]
  },
  {
   "cell_type": "code",
   "execution_count": null,
   "metadata": {},
   "outputs": [],
   "source": [
    "a = [1, 2, 3, 4, 5]\n",
    "print(a[0])\n",
    "print(a[4])\n",
    "#マイナス値を指定すると、後ろからアクセスする。\n",
    "print('マイナス')\n",
    "print(a[-1])\n",
    "print(a[-2])\n",
    "print(a[-5])\n",
    "# スライス\n",
    "print('スライス')\n",
    "print(a[2:4])\n",
    "print(a[:3])\n",
    "print(a[2:])\n",
    "print(a[:-1])\n",
    "print(a[-3:-1])"
   ]
  },
  {
   "cell_type": "markdown",
   "metadata": {},
   "source": [
    "## 配列の追加\n",
    "配列への要素追加はappendを使う。"
   ]
  },
  {
   "cell_type": "code",
   "execution_count": null,
   "metadata": {},
   "outputs": [],
   "source": [
    "a = []\n",
    "a.append('a')\n",
    "a.append('b')\n",
    "a.append('c')\n",
    "a.append('d')\n",
    "print(a)"
   ]
  },
  {
   "cell_type": "markdown",
   "metadata": {},
   "source": [
    "## 配列の結合\n",
    "配列の結合はextend()や+演算子が使用される。"
   ]
  },
  {
   "cell_type": "code",
   "execution_count": null,
   "metadata": {},
   "outputs": [],
   "source": [
    "a = [1, 2, 3, 4, 5]\n",
    "b = [6, 7, 8]\n",
    "\n",
    "# appendすると配列の要素として加わる\n",
    "a.append(b)\n",
    "print(a)\n",
    "\n",
    "# extendすると配列の要素が追加される\n",
    "a = [1, 2, 3, 4, 5]\n",
    "b = [6, 7, 8]\n",
    "a.extend(b)\n",
    "print(a)\n",
    "\n",
    "# +をすると配列が結合される\n",
    "a = [1, 2, 3, 4, 5]\n",
    "b = [6, 7, 8]\n",
    "\n",
    "a = a + b\n",
    "print(a)"
   ]
  },
  {
   "cell_type": "markdown",
   "metadata": {},
   "source": [
    "## 配列の繰り返し処理\n",
    "配列で*を使うと、繰り返し配列となる。"
   ]
  },
  {
   "cell_type": "code",
   "execution_count": null,
   "metadata": {},
   "outputs": [],
   "source": [
    "a = [0]*4\n",
    "print(a)\n",
    "b = ['a', 'b', 'c']*5\n",
    "print(b)"
   ]
  },
  {
   "cell_type": "markdown",
   "metadata": {},
   "source": [
    "## 配列の要素の削除\n",
    "Pythonでは配列の削除するにはclear pop remove delを用いる。\n",
    "- clearは全ての要素を削除することができる\n",
    "- popは指定した位置の要素を削除することができる\n",
    "- removeは指定した要素の最初を削除することができる\n",
    "- delでリストの要素を削除することができる"
   ]
  },
  {
   "cell_type": "code",
   "execution_count": null,
   "metadata": {},
   "outputs": [],
   "source": [
    "a = [0, 1, 2, 3, 4, 5, 6]\n",
    "a.clear()\n",
    "print('clear')\n",
    "print(a)\n",
    "\n",
    "print('pop')\n",
    "a = ['a', 'b', 'c', 'd', 'e', 'f']\n",
    "a.pop(3)\n",
    "print(a)\n",
    "a = ['a', 'b', 'c', 'd', 'e', 'f']\n",
    "# 末尾を削除する\n",
    "a.pop(-1)\n",
    "print(a)\n",
    "#デフォルトでは末尾を削除する\n",
    "a = ['a', 'b', 'c', 'd', 'e', 'f']\n",
    "# 末尾を削除する\n",
    "a.pop()\n",
    "print(a)\n",
    "\n",
    "print('remove')\n",
    "a = ['a', 'b', 'c', 'd', 'e', 'f', 'c', 'g', 'h']\n",
    "a.remove('b')\n",
    "print(a)\n",
    "a = ['a', 'b', 'c', 'd', 'e', 'f', 'c', 'g', 'h']\n",
    "a.remove('c')\n",
    "print(a)\n",
    "\n",
    "print('del')\n",
    "a = ['a', 'b', 'c', 'd', 'e', 'f', 'g']\n",
    "del a[3]\n",
    "print(a)\n",
    "a = ['a', 'b', 'c', 'd', 'e', 'f', 'g']\n",
    "del a[2:5]\n",
    "print(a)\n",
    "a = ['a', 'b', 'c', 'd', 'e', 'f', 'g']\n",
    "del a[-1]\n",
    "print(a)"
   ]
  },
  {
   "cell_type": "markdown",
   "metadata": {},
   "source": [
    "## タプル\n",
    "タプルは配列のように振る舞うが、追加、要素の変更な点がことなる。変更しない定数などに用いられる"
   ]
  },
  {
   "cell_type": "code",
   "execution_count": null,
   "metadata": {},
   "outputs": [],
   "source": [
    "a = ('東京', '埼玉', '横浜')\n",
    "print(a)\n",
    "# タプルの()は省略可能\n",
    "b = '東京', '埼玉', '横浜'\n",
    "print(b)\n",
    "\n",
    "c, d, e = ('東京', '埼玉', '横浜')\n",
    "print(c)\n",
    "print(d)\n",
    "print(e)"
   ]
  },
  {
   "cell_type": "markdown",
   "metadata": {},
   "source": [
    "# 辞書\n",
    "辞書型は、値にキーを関連づけた配列である。"
   ]
  },
  {
   "cell_type": "code",
   "execution_count": null,
   "metadata": {},
   "outputs": [],
   "source": [
    "a = {'dog':'犬', 'cat':'猫', 'human':'人'}\n",
    "print(a)\n",
    "print(a['cat'])"
   ]
  },
  {
   "cell_type": "markdown",
   "metadata": {},
   "source": [
    "## 配列と文字列\n",
    "Pythonでは配列と文字列の相互変換に代表的な手法がある。自然言語処理ではよく用いられる事項なので詳しめに解説する。  \n",
    "まずは文字を配列にする手法について解説する。  \n",
    "Pythonでは文字を配列にするときはsplit(), rsplit()がしばしば用いられる。"
   ]
  },
  {
   "cell_type": "code",
   "execution_count": null,
   "metadata": {},
   "outputs": [],
   "source": [
    "a = 'All need is love.All need is love.All need is love, love.Love is all need.'\n",
    "b = a.split('.')\n",
    "print(b)\n",
    "# 第二引数に数値を入れると、分割回数が指定できる。\n",
    "c = a.split('.', 2)\n",
    "print(c)\n",
    "#rsplitを使うと、右から数えた回数の分割ができる\n",
    "d = a.rsplit('.', 2)\n",
    "print(d)\n",
    "#デフォルトではスペースで分割する\n",
    "e = a.split()\n",
    "print(e)"
   ]
  },
  {
   "cell_type": "markdown",
   "metadata": {},
   "source": [
    "文字から配列に変換するときはしばしばjoinが用いられる。  \n",
    "join関数は特定の区切り文字で配列を文字列に結合することができる。"
   ]
  },
  {
   "cell_type": "code",
   "execution_count": null,
   "metadata": {},
   "outputs": [],
   "source": [
    "a = ['横浜', 'DeNA', 'ベイスターズ']\n",
    "print(''.join(a))\n",
    "print(' '.join(a))\n",
    "print('★'.join(a))"
   ]
  },
  {
   "cell_type": "markdown",
   "metadata": {},
   "source": [
    "## 文字列の値の埋め込み\n",
    "### sprintfスタイル\n",
    "現在はあまり推奨されていない使い方ではあるが、現場での使用例もあるので、解説する。  \n",
    "文字列中の%にタプルを与えると文字列に、要素の値を代入できる\n",
    "\n",
    "- %s 文字列(実際には全ての型を渡せる)\n",
    "- %f float\n",
    "- %i int"
   ]
  },
  {
   "cell_type": "code",
   "execution_count": null,
   "metadata": {},
   "outputs": [],
   "source": [
    "a = 'Python%f'\n",
    "print(a % (2.7))\n",
    "b = 'Python%s'\n",
    "print(b % '2.7')\n",
    "print(b % 2.7)\n",
    "print(b % 2)\n",
    "c = 'バッター%i番%s%s'\n",
    "print(c % (2, 'ショート', '坂本'))"
   ]
  },
  {
   "cell_type": "markdown",
   "metadata": {},
   "source": [
    "### 辞書を渡す方式\n",
    "辞書を渡すことも可能。その場合は下記のように文字列中にキーを明示的に示す必要がある。"
   ]
  },
  {
   "cell_type": "code",
   "execution_count": null,
   "metadata": {},
   "outputs": [],
   "source": [
    "a = 'バッター%(order)i番%(position)s%(name)s'\n",
    "print(a % {'name':'坂本', 'position':'ショート', 'order':2})"
   ]
  },
  {
   "cell_type": "markdown",
   "metadata": {},
   "source": [
    "### formatを用いた手法\n",
    "これらはformat関数を用いた書き方が現在推奨された手法。変数型を明示する必要がない。"
   ]
  },
  {
   "cell_type": "code",
   "execution_count": null,
   "metadata": {},
   "outputs": [],
   "source": [
    "# {}に埋め込む\n",
    "a = 'Python{}'\n",
    "print(a.format(2.7))\n",
    "print(a.format(2))\n",
    "print(a.format('2.7'))\n",
    "b = 'バッター{}番{}{}'\n",
    "# 埋め込みが複数ある場合は順番に、引数に指定する。\n",
    "print(b.format(2, 'ショート', '坂本'))"
   ]
  },
  {
   "cell_type": "markdown",
   "metadata": {},
   "source": [
    "# 真偽値(Boolean)\n",
    "真偽値はPythonではTrue、Falseのように頭文字だけ大文字で記載する。"
   ]
  },
  {
   "cell_type": "code",
   "execution_count": null,
   "metadata": {},
   "outputs": [],
   "source": [
    "a=True\n",
    "b=False\n",
    "print(a)\n",
    "print(b)"
   ]
  },
  {
   "cell_type": "markdown",
   "metadata": {},
   "source": [
    "## Booleanと数値\n",
    "Pythonでは内部的にTrueを1、Falseを0として持っており、演算が可能となっている。"
   ]
  },
  {
   "cell_type": "code",
   "execution_count": null,
   "metadata": {},
   "outputs": [],
   "source": [
    "print(True+True+True)\n",
    "print(True*False)"
   ]
  },
  {
   "cell_type": "markdown",
   "metadata": {},
   "source": [
    "## 真偽の判定\n",
    "Pythonでは真偽の判定として等しい場合は==、等しくない場合は!=で判定する。"
   ]
  },
  {
   "cell_type": "code",
   "execution_count": null,
   "metadata": {},
   "outputs": [],
   "source": [
    "a = 2\n",
    "b = 2\n",
    "c = 3\n",
    "print(a==b)\n",
    "print(a!=b)\n",
    "print(a==c)\n",
    "print(a!=c)"
   ]
  },
  {
   "cell_type": "markdown",
   "metadata": {},
   "source": []
  },
  {
   "cell_type": "code",
   "execution_count": null,
   "metadata": {},
   "outputs": [],
   "source": []
  },
  {
   "cell_type": "markdown",
   "metadata": {},
   "source": [
    "# 文字列の存在判定\n",
    "文字列や配列に特定の文字、要素が含まれるかの存在判定には inが使われる。\n"
   ]
  },
  {
   "cell_type": "code",
   "execution_count": null,
   "metadata": {},
   "outputs": [],
   "source": [
    "a = 'abca'\n",
    "print('c' in a)\n",
    "print('ab' in a)\n",
    "print('e' in a)\n",
    "print('ac' in a)\n",
    "\n",
    "b = ['a', 'b', 'c']\n",
    "print('b' in b)\n",
    "print('ab' in b)\n",
    "print('e' in b)"
   ]
  },
  {
   "cell_type": "markdown",
   "metadata": {},
   "source": [
    "# 分岐\n",
    "Pythonの分岐についてはif　elif elseで記載する。基本構文は以下の通り\n",
    "\n",
    "if booleanを返す式:  \n",
    "    ....  \n",
    "elif booleanを返す式:  \n",
    "    ......  \n",
    ".....  \n",
    "else:  \n",
    "    ....."
   ]
  },
  {
   "cell_type": "code",
   "execution_count": null,
   "metadata": {},
   "outputs": [],
   "source": [
    "a = 'dog'\n",
    "if a.lower() == 'dog':\n",
    "    print('わんわん')\n",
    "elif a.lower() == 'cat':\n",
    "    print('にゃーにゃー')\n",
    "elif a.lower() == 'horse':\n",
    "    print('ひひーん')\n",
    "else:\n",
    "    print('鳴き声がありません')"
   ]
  },
  {
   "cell_type": "markdown",
   "metadata": {},
   "source": [
    "## pass句について\n",
    "条件分岐に限らないがPythonでは、一つのインデントの中になにも書かない場合エラーとなる。そのため何もしたくない場合はpassを使う。"
   ]
  },
  {
   "cell_type": "code",
   "execution_count": null,
   "metadata": {},
   "outputs": [],
   "source": [
    "a = 'cat'\n",
    "if a.lower() == 'dog':\n",
    "    print('わんわん')\n",
    "elif a.lower() == 'cat':\n",
    "    pass\n",
    "elif a.lower() == 'horse':\n",
    "    print('ひひーん')\n",
    "else:\n",
    "    print('鳴き声がありません')"
   ]
  },
  {
   "cell_type": "code",
   "execution_count": null,
   "metadata": {},
   "outputs": [],
   "source": [
    "#エラーになる\n",
    "a = 'cat'\n",
    "if a.lower() == 'dog':\n",
    "    print('わんわん')\n",
    "elif a.lower() == 'cat':\n",
    "    \n",
    "elif a.lower() == 'horse':\n",
    "    print('ひひーん')\n",
    "else:\n",
    "    print('鳴き声がありません')"
   ]
  },
  {
   "cell_type": "markdown",
   "metadata": {},
   "source": [
    "# 三項間演算子\n",
    "参考館演算子は条件式によって代入する値を変える時に用いる。  \n",
    "    変数 = 'Trueのとき代入する値' if 条件式 else 'Falseのとき代入する式'"
   ]
  },
  {
   "cell_type": "code",
   "execution_count": null,
   "metadata": {},
   "outputs": [],
   "source": [
    "a = 'dog'\n",
    "b = 'cat'\n",
    "c, d = '', ''\n",
    "if a == 'dog':\n",
    "    c = 'わんわん'\n",
    "else:\n",
    "    c = 'にゃーにゃー'\n",
    "\n",
    "if b == 'dog':\n",
    "    d = 'わんわん'\n",
    "else:\n",
    "    d = 'にゃーにゃー'\n",
    "\n",
    "print(c)\n",
    "print(d)"
   ]
  },
  {
   "cell_type": "code",
   "execution_count": null,
   "metadata": {},
   "outputs": [],
   "source": [
    "a = 'dog'\n",
    "b = 'cat'\n",
    "\n",
    "c = 'わんわん' if a == 'dog' else 'にゃーにゃー'\n",
    "d = 'わんわん' if b == 'dog' else 'にゃーにゃー'\n",
    "print(c)\n",
    "print(d)"
   ]
  },
  {
   "cell_type": "markdown",
   "metadata": {},
   "source": [
    "# ループ\n",
    "Pythonでは主にforとwhileのループが使われる。\n",
    "\n",
    "## for文\n",
    "forは\n",
    "\n",
    "for 値 in 繰り返しの内容:\n",
    "\n",
    "でかく。ある数からある数まで繰り返すときは、range(開始,終了, 間隔)を用いる。開始を省略すると0、間隔は省略すると1となる"
   ]
  },
  {
   "cell_type": "code",
   "execution_count": null,
   "metadata": {},
   "outputs": [],
   "source": [
    "a_list, b_list, c_list, d_list = [], [], [], []\n",
    "for i in range(0, 10, 1):\n",
    "    a_list.append(i)\n",
    "    \n",
    "for i in range(0, 10):\n",
    "    b_list.append(i)\n",
    "    \n",
    "for i in range(10):\n",
    "    c_list.append(i)\n",
    "    \n",
    "for i in range(0, 10, 2):\n",
    "    d_list.append(i)\n",
    "    \n",
    "print(a_list)\n",
    "print(b_list)\n",
    "print(c_list)\n",
    "print(d_list)"
   ]
  },
  {
   "cell_type": "markdown",
   "metadata": {},
   "source": [
    "### 配列でループ\n",
    "配列でループする場合はrangeのところに配列を置けば良い。配列にenumerateをつけると、ループの回数を出力することができる。\n",
    "\n",
    "enumerate(配列など, 開始数(デフォルト0))"
   ]
  },
  {
   "cell_type": "code",
   "execution_count": null,
   "metadata": {},
   "outputs": [],
   "source": [
    "lst = ['東京', '千葉', '神奈川', '埼玉']\n",
    "for x in lst:\n",
    "    print(x)\n",
    "    \n",
    "for i, x in enumerate(lst, 10):\n",
    "    print(i, x)\n",
    "    \n",
    "for i, x in enumerate(lst):\n",
    "    print(i, x)"
   ]
  },
  {
   "cell_type": "markdown",
   "metadata": {},
   "source": [
    "### 辞書でループ\n",
    "辞書でループする場合は取り出す要素が、キーなのか値なのか、両方なのかで書き方が異なる。\n",
    "\n",
    "- キーを取り出す→ keys()\n",
    "- 値を取り出す→ values()\n",
    "- キー、値両方を取り出す→ items()\n"
   ]
  },
  {
   "cell_type": "code",
   "execution_count": null,
   "metadata": {},
   "outputs": [],
   "source": [
    "a = {0:'増田大輝', 2:'陽岱鋼', 5:'中島宏之'}\n",
    "for key in a.keys():\n",
    "    print(key)\n",
    "    \n",
    "for value in a.values():\n",
    "    print(value)\n",
    "    \n",
    "for key, value in a.items():\n",
    "    print(key, value)"
   ]
  },
  {
   "cell_type": "markdown",
   "metadata": {},
   "source": [
    "## 内包表記"
   ]
  },
  {
   "cell_type": "code",
   "execution_count": null,
   "metadata": {},
   "outputs": [],
   "source": [
    "a_list = []\n",
    "for x in range(10):\n",
    "    a_list.append(x)\n",
    "\n",
    "print(a_list)\n",
    "b_list = [x for x in range(10)]\n",
    "print(b_list)\n",
    "\n",
    "lst = ['千葉', '神奈川', '埼玉']\n",
    "c_list = ['{}県'.format(x) for x in lst]\n",
    "print(c_list)\n",
    "d_dict = {idx:value for idx, value in enumerate(lst)}\n",
    "print(d_dict)"
   ]
  },
  {
   "cell_type": "markdown",
   "metadata": {},
   "source": [
    "## while\n",
    "while文は、\n",
    "\n",
    "while 真偽値:\n",
    "\n",
    "という構文で、真偽値Trueであるかぎりループを継続する。forと異なり範囲が不定の場合用いる。forとwhileどちらも使える場合は、forで書くほうが良い。"
   ]
  },
  {
   "cell_type": "code",
   "execution_count": null,
   "metadata": {},
   "outputs": [],
   "source": [
    "value = 0\n",
    "\n",
    "while value < 10:\n",
    "    print(value)\n",
    "    value += 1"
   ]
  },
  {
   "cell_type": "markdown",
   "metadata": {},
   "source": [
    "## continueとbreak文\n",
    "ループを飛ばしたり中断したい場合にはcontinueとbreakを用いる。continueはループをスキップする。breakはループを抜ける。"
   ]
  },
  {
   "cell_type": "code",
   "execution_count": null,
   "metadata": {},
   "outputs": [],
   "source": [
    "for idx in range(1, 10):\n",
    "    if idx % 3 == 0:\n",
    "        continue\n",
    "        \n",
    "    print(idx)"
   ]
  },
  {
   "cell_type": "code",
   "execution_count": null,
   "metadata": {},
   "outputs": [],
   "source": [
    "for idx in range(1, 10):\n",
    "    if idx % 3 == 0:\n",
    "        break\n",
    "        \n",
    "    print(idx)"
   ]
  },
  {
   "cell_type": "markdown",
   "metadata": {},
   "source": [
    "### else文\n",
    "ループが最後まで全て回ったら実行したい場合はelseに記載する。breakした場合は実行されない。\n"
   ]
  },
  {
   "cell_type": "code",
   "execution_count": null,
   "metadata": {},
   "outputs": [],
   "source": [
    "for idx in range(10):\n",
    "    print(idx)\n",
    "else:\n",
    "    print('完了')"
   ]
  },
  {
   "cell_type": "code",
   "execution_count": null,
   "metadata": {},
   "outputs": [],
   "source": [
    "cnt = 0\n",
    "while cnt < 10:\n",
    "    print(cnt)\n",
    "    cnt += 1\n",
    "else:\n",
    "    print('完了')"
   ]
  },
  {
   "cell_type": "code",
   "execution_count": null,
   "metadata": {},
   "outputs": [],
   "source": [
    "##elseが実行されない\n",
    "for idx in range(10):\n",
    "    if idx > 4:\n",
    "        break\n",
    "    print(idx)\n",
    "else:\n",
    "    print('完了')"
   ]
  },
  {
   "cell_type": "markdown",
   "metadata": {},
   "source": [
    "# 関数\n",
    "Pythonの関数は\n",
    "\n",
    "def 関数名(引数1, 引数2, ...):  \n",
    "&nbsp;&nbsp;&nbsp;&nbsp;  ...  \n",
    "&nbsp;&nbsp;&nbsp;&nbsp;return 戻り値\n",
    "\n",
    "戻り値はあってもなくてもよい。"
   ]
  },
  {
   "cell_type": "code",
   "execution_count": null,
   "metadata": {},
   "outputs": [],
   "source": [
    "def sample(a, b):\n",
    "    return a + b\n",
    "            \n",
    "num = sample(8, 9)\n",
    "print(num)"
   ]
  },
  {
   "cell_type": "code",
   "execution_count": null,
   "metadata": {},
   "outputs": [],
   "source": [
    "def fizzbuzz(n):\n",
    "    if n <= 0:\n",
    "        print('Invaild number!')\n",
    "        return\n",
    "    \n",
    "    print('Start Fizz Buzz!')\n",
    "    for idx in range(n+1):\n",
    "        if idx % 15 ==0:\n",
    "            print('fizzbuzz')\n",
    "        elif idx % 5 == 0:\n",
    "            print('buzz')\n",
    "        elif idx % 3 == 0:\n",
    "            print('fizz')\n",
    "        else:\n",
    "            print(idx)\n",
    "\n",
    "fizzbuzz(20)"
   ]
  },
  {
   "cell_type": "code",
   "execution_count": null,
   "metadata": {},
   "outputs": [],
   "source": [
    "fizzbuzz(-1)"
   ]
  },
  {
   "cell_type": "markdown",
   "metadata": {},
   "source": [
    "### デフォルト値\n",
    "引数で指定がない場合はデフォルト値を使う場合は、引数にデフォルト値を指定する。"
   ]
  },
  {
   "cell_type": "code",
   "execution_count": null,
   "metadata": {},
   "outputs": [],
   "source": [
    "def fizzbuzz(n=30):\n",
    "    if n <= 0:\n",
    "        print('Invaild number!')\n",
    "        return\n",
    "    \n",
    "    print('Start Fizz Buzz!')\n",
    "    for idx in range(n+1):\n",
    "        if idx % 15 ==0:\n",
    "            print('fizzbuzz')\n",
    "        elif idx % 5 == 0:\n",
    "            print('buzz')\n",
    "        elif idx % 3 == 0:\n",
    "            print('fizz')\n",
    "        else:\n",
    "            print(idx)"
   ]
  },
  {
   "cell_type": "code",
   "execution_count": null,
   "metadata": {},
   "outputs": [],
   "source": [
    "fizzbuzz(n=30)\n",
    "print()\n",
    "fizzbuzz()"
   ]
  },
  {
   "cell_type": "markdown",
   "metadata": {},
   "source": [
    "# クラス\n",
    "今回はPythonでのクラスとメソッドについて確認する。今回の講座ではクラスを作ることは行わないが、クラスの呼び出しは行うので、簡単に確認しておく。  "
   ]
  },
  {
   "cell_type": "code",
   "execution_count": 1,
   "metadata": {},
   "outputs": [],
   "source": [
    "# test_classを作る例\n",
    "class test_class:\n",
    "    pass"
   ]
  },
  {
   "cell_type": "markdown",
   "metadata": {},
   "source": [
    "## メソッド\n",
    "メソッドは関数と同じようにメソッドで定義される。第一引数に慣習上selfと呼ばれる引数を書き、こちらでクラス内の変数やメソッドを呼び出すことができる。"
   ]
  },
  {
   "cell_type": "code",
   "execution_count": 67,
   "metadata": {},
   "outputs": [],
   "source": [
    "class TestClass:\n",
    "    x = 5\n",
    "\n",
    "    def add(self, arg1, arg2):\n",
    "        return arg1 + arg2 + self.x\n",
    "\n",
    "    def mult(self, arg1, arg2):\n",
    "        return arg1 * arg2 * self.x\n",
    "    \n",
    "    def val(self):\n",
    "        print(self.x)"
   ]
  },
  {
   "cell_type": "markdown",
   "metadata": {},
   "source": [
    "## クラス,メソッドの呼び出し\n",
    "クラスメソッドの呼び出しは以下のように行う。"
   ]
  },
  {
   "cell_type": "code",
   "execution_count": 68,
   "metadata": {},
   "outputs": [
    {
     "name": "stdout",
     "output_type": "stream",
     "text": [
      "5\n",
      "75\n",
      "5\n"
     ]
    }
   ],
   "source": [
    "test =TestClass() #クラスはクラス名()で呼び出してインスタンスを作成する。\n",
    "test.val()        #メソッドを呼び出すときはインスタンス.メソッドで呼ぶ\n",
    "print(test.mult(3,5))\n",
    "print(test.x) # クラス変数の呼び出し"
   ]
  },
  {
   "cell_type": "markdown",
   "metadata": {},
   "source": [
    "## インスタンス変数とコンストラクタ\n",
    "Pythonではコンストラクタを  \n",
    "&nbsp; der \\_\\_init\\_\\_():  \n",
    "で定義する。インスタンス変数はコンストラクタの中で\n",
    "&nbsp; self.変数名  \n",
    "で定義される。先ほどのselfは実はインスタンス変数が代入されたものということとなる。先ほどコンストラクタ外に定義した変数xはクラス変数である。selfはインスタンス変数が存在しない場合にクラス変数を参照する仕様になっている。"
   ]
  },
  {
   "cell_type": "code",
   "execution_count": 70,
   "metadata": {},
   "outputs": [],
   "source": [
    "class TestClass:\n",
    "    x = 5\n",
    "    def __init__(self):\n",
    "        self.y = 3\n",
    "\n",
    "    def add_x(self, arg1, arg2):\n",
    "        return arg1 + arg2 + self.x\n",
    "\n",
    "    def add_y(self, arg1, arg2):\n",
    "        return arg1 + arg2 + self.y"
   ]
  },
  {
   "cell_type": "code",
   "execution_count": 73,
   "metadata": {},
   "outputs": [
    {
     "name": "stdout",
     "output_type": "stream",
     "text": [
      "3\n",
      "13\n",
      "11\n"
     ]
    }
   ],
   "source": [
    "test =TestClass()\n",
    "print(test.y)  # インスタンス変数の呼び出し\n",
    "print(test.add_x(3, 5))\n",
    "print(test.add_y(3, 5))"
   ]
  },
  {
   "cell_type": "markdown",
   "metadata": {},
   "source": [
    "# import\n",
    "Pythonではモジュールやパッケージをインストールする時にimport構文を使う。今回は同じディレクトリにサンプルのモジュールとパッケージを作成したのでそれを元に解説する。  \n",
    "モジュールとは関数などをひとまとまりにして.pyファイルにまとめたものであり、それをさらに一間取りにして同じディレクトリに配備したものが、パッケージである。"
   ]
  },
  {
   "cell_type": "code",
   "execution_count": null,
   "metadata": {},
   "outputs": [],
   "source": [
    "import sample_pac.mod1\n",
    "print(sample_pac.mod1.add(8, 2))\n",
    "print(sample_pac.mod1.subtract(8, 2))\n",
    "print(sample_pac.mod1.multiple(8, 2))\n",
    "print(sample_pac.mod1.divide(8, 2))\n"
   ]
  },
  {
   "cell_type": "code",
   "execution_count": null,
   "metadata": {},
   "outputs": [],
   "source": [
    "import sample_pac.mod2\n",
    "print(sample_pac.mod2.power(8,2))\n",
    "print(sample_pac.mod2.mean([x for x in range(1, 11)]))"
   ]
  },
  {
   "cell_type": "markdown",
   "metadata": {},
   "source": [
    "## リネーム\n",
    "インポートしたモジュール名などをリネームすることができる。importの後にas&nbsp;<変更したい名前>とすればよい。"
   ]
  },
  {
   "cell_type": "code",
   "execution_count": null,
   "metadata": {},
   "outputs": [],
   "source": [
    "import sample_pac.mod1 as m1\n",
    "print(m1.add(8, 2))\n",
    "print(m1.subtract(8, 2))\n",
    "print(m1.multiple(8, 2))\n",
    "print(sample_pac.mod1.divide(8, 2))\n"
   ]
  },
  {
   "cell_type": "markdown",
   "metadata": {},
   "source": [
    "慣習上numpy、pandas、matplotlibは以下のようなリネームをすることが多い。お約束なので、知っておくと良い。"
   ]
  },
  {
   "cell_type": "code",
   "execution_count": null,
   "metadata": {},
   "outputs": [],
   "source": [
    "import numpy as np\n",
    "import pandas as pd\n",
    "import matplotlib.pyplot as plt"
   ]
  },
  {
   "cell_type": "markdown",
   "metadata": {},
   "source": [
    "## モジュールの関数単位でのインストール\n",
    "モジュールのすべての関数ではなく、一部の関数やクラスのみをインストールすることができる。そのときはモジュールまでをfromに書き、インストールしたい関数などをインポートに書く\n",
    "\n",
    "from <パッケージやモジュール> import <関数など>"
   ]
  },
  {
   "cell_type": "code",
   "execution_count": null,
   "metadata": {},
   "outputs": [],
   "source": [
    "from sample_pac.mod1 import add"
   ]
  },
  {
   "cell_type": "code",
   "execution_count": null,
   "metadata": {},
   "outputs": [],
   "source": [
    "add(3, 4)\n"
   ]
  },
  {
   "cell_type": "code",
   "execution_count": null,
   "metadata": {},
   "outputs": [],
   "source": [
    "#インポートしていないのでエラーになる\n",
    "subtract(4,3)"
   ]
  },
  {
   "cell_type": "code",
   "execution_count": null,
   "metadata": {},
   "outputs": [],
   "source": [
    "# asを使うことも可能\n",
    "from sample_pac.mod1 import add as add_rename\n",
    "add_rename(3,4)"
   ]
  },
  {
   "cell_type": "markdown",
   "metadata": {},
   "source": [
    "## パッケージのインストール\n",
    "パッケージは自作したものだけでなく、先人が作ったものをいんすとーるすることができる。パッケージ管理システムにはpipとcondaがあり、Anacondaを使う場合は極力condaを使う。\n",
    "\n",
    "|パッケージ名|内容|\n",
    "|:----|:----|\n",
    "|pip|Pythonの標準的なパッケージシステム。パッケージの数が多い。誰でもパッケージの公開が可能|\n",
    "|conda|機械学習やデータ分析に特化したパッケージシステム。パッケージの数は少ないが、機械学習などの環境構築が簡単。パッケージはAnacondaの運営が管理|\n",
    "\n",
    "pipの場合は下記コマンドを利用する。  \n",
    "&nbsp; % pip install <パッケージ名>    \n",
    "pipの場合は下記コマンドを利用する。  \n",
    "&nbsp; % conda install <パッケージ名>  \n",
    "condaで上記でうまくいかない時は下記コマンドを試す。  \n",
    "&nbsp; % conda install -c conda-forge <パッケージ名>  \n",
    "\n",
    "また、os、sysなどインストールしなくてもimprtできるデフォルトパッケージも存在する。\n",
    "\n",
    "今回は試しに、mecab-python3とmojimojiを入れてみる。ともに、comndaでは入らないので  \n",
    "&nbsp; % pip install mecab-python3  \n",
    "&nbsp; % pip install mojimoji  \n",
    "とする。"
   ]
  },
  {
   "cell_type": "markdown",
   "metadata": {},
   "source": [
    "# ファイル入出力\n",
    "ファイル入力や書き込み、出力にはwith句を用いる。  \n",
    "with open(<ファイルパス>, <モード>) as <ファイルハンドル名>:  \n",
    "&nbsp;&nbsp;&nbsp;&nbsp; ....\n",
    "\n",
    "## ファイル読み込み\n",
    "ファイル読み込みは下記の通り記載する。<モード>はrにする。"
   ]
  },
  {
   "cell_type": "code",
   "execution_count": null,
   "metadata": {},
   "outputs": [],
   "source": [
    "with open('./test_dir/test_text1.txt', 'r') as f:\n",
    "    a = f.read().split('\\n')\n",
    "    print(a)"
   ]
  },
  {
   "cell_type": "markdown",
   "metadata": {},
   "source": [
    "## ファイル書き込み\n",
    "ファイル読み込みは下記の通り記載する。<モード>はwにする。ファイルパスに書き込みたいファイルのパスを指定する。"
   ]
  },
  {
   "cell_type": "code",
   "execution_count": null,
   "metadata": {},
   "outputs": [],
   "source": [
    "a = '\\n'.join([chr(x) for x in range(65, 91)])\n",
    "b = '\\n'.join([chr(x) for x in range(97, 123)])\n",
    "with open('./test_dir/alpa.txt', 'w') as f:\n",
    "    f.write(a)"
   ]
  },
  {
   "cell_type": "markdown",
   "metadata": {},
   "source": [
    "'w'モードを使うと、現行のファイルの中身は消える。"
   ]
  },
  {
   "cell_type": "code",
   "execution_count": null,
   "metadata": {},
   "outputs": [],
   "source": [
    "with open('./test_dir/alpa.txt', 'w') as f:\n",
    "    f.write(b)"
   ]
  },
  {
   "cell_type": "markdown",
   "metadata": {},
   "source": [
    "## ファイルの追記\n",
    "ファイルの追記は書き込みとほとんど同じだが、<モード>はaとする。"
   ]
  },
  {
   "cell_type": "code",
   "execution_count": null,
   "metadata": {},
   "outputs": [],
   "source": [
    "with open('./test_dir/alpa_a.txt', 'a') as f:\n",
    "    f.write(a)\n",
    "    f.write('\\n')"
   ]
  },
  {
   "cell_type": "code",
   "execution_count": null,
   "metadata": {},
   "outputs": [],
   "source": [
    "with open('./test_dir/alpa_a.txt', 'a') as f:\n",
    "    f.write(b)"
   ]
  },
  {
   "cell_type": "markdown",
   "metadata": {},
   "source": [
    "# json\n",
    "jsonはjavascriptの構文に沿ったテキストのフォーマットであり、多重構造を持ったフォーマットの取り扱いが得意。jsonの例は下記の通り。"
   ]
  },
  {
   "cell_type": "raw",
   "metadata": {},
   "source": [
    "{\n",
    "    \"team_name\": \"読売ジャイアンツ\",\n",
    "    \"home_stadium\": \"東京ドーム\",\n",
    "    \"director\": \"原辰徳\",\n",
    "    \"player\": {\n",
    "        \"0\": {\n",
    "            \"player_name\": \"増田大輝\",\n",
    "            \"position\": \"内野手\",\n",
    "            \"pitching_batting\": \"右投右打\",\n",
    "            \"height\": 172,\n",
    "            \"weight\": 68\n",
    "        },\n",
    "        \"2\": {\n",
    "            \"player_name\": \"陽岱鋼\",\n",
    "            \"position\": \"外野手\",\n",
    "            \"pitching_batting\": \"右投右打\",\n",
    "            \"height\": 184,\n",
    "            \"weight\": 89\n",
    "        },\n",
    "        \"00\": {\n",
    "            \"player_name\": \"吉川大幾\",\n",
    "            \"position\": \"内野手\",\n",
    "            \"pitching_batting\": \"右投右打\",\n",
    "            \"height\": 175,\n",
    "            \"weight\": 78\n",
    "        }\n",
    "    }\n",
    "}"
   ]
  },
  {
   "cell_type": "markdown",
   "metadata": {},
   "source": [
    "上の例ではplayer以降が大柔構造になっていることがわかる。\n",
    "xmlのように構造化したデータを手軽に扱える。 \n",
    "## jsonデータのロード\n",
    "Pythonではjsonというパッケージで簡単に取り扱える。以下に使い方の例をあげる。"
   ]
  },
  {
   "cell_type": "code",
   "execution_count": null,
   "metadata": {},
   "outputs": [],
   "source": [
    "import json\n",
    "\n",
    "json_data = {}\n",
    "with open('./sample_json/sample.json', 'r') as f:\n",
    "    # json.loadで辞書型で変換することができる。\n",
    "    json_data = json.load(f)\n",
    "    \n",
    "print(json_data)\n",
    "print(type(json_data))"
   ]
  },
  {
   "cell_type": "markdown",
   "metadata": {},
   "source": [
    "## jsonデータの保存\n",
    "jsonデータの例は以下のようにする"
   ]
  },
  {
   "cell_type": "code",
   "execution_count": null,
   "metadata": {},
   "outputs": [],
   "source": [
    "import json\n",
    "\n",
    "with open('./sample_json/sample_2.json', 'w') as f:\n",
    "    # json.loadで辞書型で変換することができる。\n",
    "    json.dump(json_data, f)"
   ]
  },
  {
   "cell_type": "markdown",
   "metadata": {},
   "source": [
    "# 正規表現\n",
    "正規表現とは、文字をパターンで表現する手法である。プログラミングでは、特定のパターンに当てはまる文字列を検出したり置換したりする場合に使う。Pythonではreというパッケージを用いる。\n",
    "\n",
    "## パターン\n",
    "正規表現の主なパターンは下記の通り。\n",
    "\n",
    "|記号 |意味 |例    |マッチする例|  \n",
    "|:---|:----|:----||\n",
    "|.|任意の1文字|a. |a1 aあ|\n",
    "|*|任意の0回以上の繰り返し|a* |aa |\n",
    "|+|直前の表現の1回以上の繰り返し|ab+ |abbb |\n",
    "|?|直前の表現が0回か1回|ab? |ab a|\n",
    "|{n(数字)}|n回の繰り返し|a{3}|aaa|\n",
    "|{m(数字),n(数字)}|m回以上n回以下の繰り返し|a{2,4}|aaa|\n",
    "|\\| |または|a\\|b|a b|\n",
    "|()|グループ化|(ab){2}|abab|\n",
    "|[]|かっこの文字のいずれか|[a-z]|aからzの文字がマッチ|\n",
    "|\\d|任意の数字|||\n",
    "|\\D|任意の数字以外|||\n",
    "|\\s|任意の空白文字|||\n",
    "|\\S|任意の空白文字以外|||\n",
    "|\\w|任意の英数字|||\n",
    "|\\W|任意の英数字以外|||\n",
    "|^|先頭文字|||\n",
    "|\\$|文字列の末尾 |||\n"
   ]
  },
  {
   "cell_type": "markdown",
   "metadata": {},
   "source": [
    "## Pythonでの正規表現のマッチング\n",
    "Pythonでの正規表現の使い方は以下のような流れで使用する。\n",
    "\n",
    "1. 正規表現をコンパイルする\n",
    "2. 文字をマッチングさせ、結果を取り出す\n",
    "\n",
    "### 1.正規表現のコンパイル\n",
    "正規表現のコンパイルには、re.compileを用いる。"
   ]
  },
  {
   "cell_type": "code",
   "execution_count": null,
   "metadata": {},
   "outputs": [],
   "source": [
    "import re\n",
    "pattern = re.compile('a.m')"
   ]
  },
  {
   "cell_type": "markdown",
   "metadata": {},
   "source": [
    "### 2.文字をマッチングさせ、結果を取り出す\n",
    "文字のマッチングには次を用いる。\n",
    "\n",
    "|名称|内容|\n",
    "|:---|:---|\n",
    "|match()|先頭で正規表現とマッチするか判定|\n",
    "|search()|先頭に限らず正規表現がどこにマッチするか判定する|\n",
    "|findall()|マッチするパターンをリストで返す|\n",
    "|finditer()|マッチするパターンをイテレーターで返す|\n",
    "\n",
    "matchとsearchは一致するパターンがない場合はNoneで返される。"
   ]
  },
  {
   "cell_type": "code",
   "execution_count": null,
   "metadata": {},
   "outputs": [],
   "source": [
    "target = 'aim'\n",
    "target2 = 'aiim'\n",
    "print(re.match(pattern, target))\n",
    "print(re.match(pattern, target2))"
   ]
  },
  {
   "cell_type": "markdown",
   "metadata": {},
   "source": [
    "### 繰り返し処理のあれこれ\n",
    "繰り返し処理のマッチングは貪欲に取れるだけ取る仕様となっている。以下に例を示す。"
   ]
  },
  {
   "cell_type": "code",
   "execution_count": null,
   "metadata": {},
   "outputs": [],
   "source": [
    "import re\n",
    "\n",
    "pattern = re.compile('ba*')\n",
    "target1 = 'ba'\n",
    "print(re.match(pattern, target1))\n",
    "print(re.findall(pattern, target1))\n",
    "\n",
    "\n",
    "#直前の繰り返しは取れるだけ取る\n",
    "pattern = re.compile('ba*')\n",
    "target1 = 'baaaaaaa'\n",
    "print(re.match(pattern, target1))\n",
    "print(re.findall(pattern, target1))\n",
    "\n",
    "#baの２文字単位の繰り返しを取る例\n",
    "pattern = re.compile('[ba]*')\n",
    "target1 = 'bababadbaba'\n",
    "print(re.match(pattern, target1))\n",
    "print(re.findall(pattern, target1))\n",
    "\n",
    "#[]でまとめないとaの繰り返しと判断する\n",
    "pattern = re.compile('ba*')\n",
    "target1 = 'bababadbaaba'\n",
    "print(re.match(pattern, target1))\n",
    "print(re.findall(pattern, target1))"
   ]
  },
  {
   "cell_type": "markdown",
   "metadata": {},
   "source": [
    "## コンパイルせずに正規表現を使用する方法\n",
    "コンパイルは必須ではなく、コンパイルなしで、マッチング時にパターンを指定することもできる。原則パターンの時はr'パターン'とする。"
   ]
  },
  {
   "cell_type": "code",
   "execution_count": null,
   "metadata": {},
   "outputs": [],
   "source": [
    "pattern = re.compile('ba*')\n",
    "target1 = 'bababadbaba'\n",
    "print(re.findall(r'[ba]*', target1))"
   ]
  },
  {
   "cell_type": "markdown",
   "metadata": {},
   "source": [
    "## 文字の置換について\n",
    "Pythonでは文字の置換は標準でreplace関数がある。"
   ]
  },
  {
   "cell_type": "code",
   "execution_count": null,
   "metadata": {},
   "outputs": [],
   "source": [
    "a = '横浜DeNAベイスターズ'\n",
    "print(a.replace('e', 'E'))"
   ]
  },
  {
   "cell_type": "markdown",
   "metadata": {},
   "source": [
    "ただし、replace関数を用いる場合は正規表現を使うことができない。正規表現を使いたい場合はre.sub()を用いる。"
   ]
  },
  {
   "cell_type": "code",
   "execution_count": null,
   "metadata": {},
   "outputs": [],
   "source": [
    "import re\n",
    "a = '横浜DeNAベイスターズ'\n",
    "\n",
    "print(re.sub(r'[a-z|A-Z]+', r'英字', a))"
   ]
  },
  {
   "cell_type": "markdown",
   "metadata": {},
   "source": [
    "## 文字の取り出し\n",
    "文字の取り出しにもre.subは使える。取り出したいパターンを()でひとまとめにし、順番に\\1、\\2、...で取り出す。"
   ]
  },
  {
   "cell_type": "code",
   "execution_count": null,
   "metadata": {},
   "outputs": [],
   "source": [
    "import re\n",
    "\n",
    "a = '2019-08-01_東京ドーム_巨人_広島_2−8'\n",
    "b = '2019-10-11_西武ドーム_西武_ソフトバンク_0-7'\n",
    "\n",
    "# 日程(YYYYMMDD)_ホーム_ビジター_球場に書き換える\n",
    "pattern = re.compile('^(20[0-9]{2})-([0-1][0-9])-([0-3][0-9])_(.+)_(.+)_(.+)_.+$')\n",
    "print(re.sub(pattern, r'\\1\\2\\3_\\5_\\6_\\4', a))\n",
    "print(re.sub(pattern, r'\\1\\2\\3_\\5_\\6_\\4', b))"
   ]
  },
  {
   "cell_type": "code",
   "execution_count": null,
   "metadata": {},
   "outputs": [],
   "source": []
  }
 ],
 "metadata": {
  "kernelspec": {
   "display_name": "Python 3",
   "language": "python",
   "name": "python3"
  },
  "language_info": {
   "codemirror_mode": {
    "name": "ipython",
    "version": 3
   },
   "file_extension": ".py",
   "mimetype": "text/x-python",
   "name": "python",
   "nbconvert_exporter": "python",
   "pygments_lexer": "ipython3",
   "version": "3.7.6"
  }
 },
 "nbformat": 4,
 "nbformat_minor": 4
}
